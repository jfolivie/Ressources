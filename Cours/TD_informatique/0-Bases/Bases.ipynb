{
 "cells": [
  {
   "cell_type": "markdown",
   "metadata": {},
   "source": [
    "# TP programmation Python\n",
    "\n",
    "## Les bases"
   ]
  },
  {
   "cell_type": "markdown",
   "metadata": {},
   "source": [
    "----"
   ]
  },
  {
   "cell_type": "markdown",
   "metadata": {},
   "source": [
    "<pre> ________________________________________\n",
    "/ Bienvenue au TP de programmation en    \\\n",
    "| Python de l&apos;UE outils mathématiques et |\n",
    "| numériques ! Ce notebook porte sur les |\n",
    "\\ bases de ce langage.                   /\n",
    " ----------------------------------------\n",
    "         \\     ,-.      .-,\n",
    "          \\    |-.\\ __ /.-|\n",
    "           \\   \\  `    `  /\n",
    "                /_     _ \\\n",
    "              &lt;  _`q  p _  &gt;\n",
    "              &lt;.._=/  \\=_. &gt;\n",
    "                 {`\\()/`}`\\\n",
    "                 {      }  \\\n",
    "                 |{    }    \\\n",
    "                 \\ &apos;--&apos;   .- \\\n",
    "                 |-      /    \\\n",
    "                 | | | | |     ;\n",
    "                 | | |.;.,..__ |\n",
    "               .-&quot;&quot;;`         `|\n",
    "              /    |           /\n",
    "              `-../____,..---&apos;`\n",
    "</pre>"
   ]
  },
  {
   "cell_type": "markdown",
   "metadata": {},
   "source": [
    "-----"
   ]
  },
  {
   "cell_type": "markdown",
   "metadata": {},
   "source": [
    "## **Notice d'utilisation de ce notebook**\n",
    "\n",
    "Plusieurs exercices sont indiqués par :\n",
    "### Exercice\n",
    "Il est souvent utile de lire le texte et d'exécuter les petites portions de code pour réaliser les exercices !"
   ]
  },
  {
   "cell_type": "markdown",
   "metadata": {},
   "source": [
    "Un petit rendu vous est demandé à la fin de la journée de TP, sous la forme d'un notebook propre et organisé, comprenant vos réponses aux exercices marqués :\n",
    "### Exercice à rendre"
   ]
  },
  {
   "cell_type": "markdown",
   "metadata": {},
   "source": [
    "Les exercices à rendre pour ce notebook sur les bases sont :\n",
    "- [Exercice 1](#Exercice-à-rendre-1) sur les listes après la partie \"test de condition\"\n",
    "- [Exercice 2](#Exercice-à-rendre-2) sur les fichiers à la fin du notebook\n",
    "- [Exercice 3](#Exercice-à-rendre-3) sur le crible d'Ératosthène"
   ]
  },
  {
   "cell_type": "markdown",
   "metadata": {},
   "source": [
    "---------------"
   ]
  },
  {
   "cell_type": "markdown",
   "metadata": {},
   "source": [
    "Python est un langage **interprété** (par opposition à compilé). Ainsi, le code est traduit en *langage machine* à chaque exécution par un interpréteur, le logiciel **Python** installé sur votre ordinateur. Cela a des effets non négligeables sur les performances de Python par rapport à d'autres langages, il est plus lent que du C ou du fortran. Mais cette propriété le rend également beaucoup plus interactif et portable.\n",
    "\n",
    "L'objectif de ce document est de découvrir les bases de la programmation en Python. Nous allons faire appel à l'interactivité du langage. Nous sommes ici dans un Notebook Jupyter. Il est constitué de plusieurs cellules, qui peuvent contenir du texte (comme ici) ou du code. Il permet d'exécuter le code cellule par cellule les unes après les autres. Les cellules ne sont pas isolées les unes des autres, une action dans l'une à un effet sur une autre cellule exécutée ensuite."
   ]
  },
  {
   "cell_type": "markdown",
   "metadata": {},
   "source": [
    "-----"
   ]
  },
  {
   "cell_type": "markdown",
   "metadata": {},
   "source": [
    "### Les variables\n",
    "\n",
    "Une variable contient une information utilisable au sein du code. Elle peut porter de nombreux types d'information. Contrairement à d'autres langages, Python n'impose pas de déclarer toutes ses variables au début du code. Néanmoins, pour des questions de lisibilité, c'est une bonne pratique ! Le nom d'une variable est habituellement en minuscules et il est recommandé d'être explicite sur ce nom, en fonction de l'information portée.\n",
    "\n",
    "Exécutez les cellules suivantes pour découvrir des variables simples. Pour cela, cliquez sur une cellule puis **Ctrl+Entrée**"
   ]
  },
  {
   "cell_type": "code",
   "execution_count": null,
   "metadata": {},
   "outputs": [],
   "source": [
    "a = 1\n",
    "b = 2.5"
   ]
  },
  {
   "cell_type": "code",
   "execution_count": null,
   "metadata": {},
   "outputs": [],
   "source": [
    "print(type(a))"
   ]
  },
  {
   "cell_type": "code",
   "execution_count": null,
   "metadata": {},
   "outputs": [],
   "source": [
    "print(type(b))"
   ]
  },
  {
   "cell_type": "markdown",
   "metadata": {},
   "source": [
    "La première cellule montre l'affectation d'une valeur (1 ou 2.5) à une variable (a ou b). On utilise le symbole **=** et on peut entrer différentes informations ligne par ligne.\n",
    "\n",
    "On remarque ensuite que les variables ont un type, il en existe de nombreux, ici, a est de type *int*, c'est un entier, et b est de type *float*, c'est un flottant, un nombre décimal. La différence entre un entier et un nombre flottant tient au stockage de cette variable en mémoire : un entier est exact, un flottant a une précision définie (16 chiffres en Python) ce qui est souvent suffisant mais peut poser problème dans certains cas."
   ]
  },
  {
   "cell_type": "markdown",
   "metadata": {},
   "source": [
    "On ne mélange en général pas les types différents, mais *int* et *float* peuvent être associés par exemple :\n",
    "$$ c2 = a^2 + b^2$$"
   ]
  },
  {
   "cell_type": "code",
   "execution_count": null,
   "metadata": {},
   "outputs": [],
   "source": [
    "c2 = a**2 + b**2"
   ]
  },
  {
   "cell_type": "code",
   "execution_count": null,
   "metadata": {},
   "outputs": [],
   "source": [
    "print(c2)"
   ]
  },
  {
   "cell_type": "markdown",
   "metadata": {},
   "source": [
    "Les nombres complexes sont également définis en python. Ils utilisent *j* pour la partie imaginaire :"
   ]
  },
  {
   "cell_type": "code",
   "execution_count": null,
   "metadata": {},
   "outputs": [],
   "source": [
    "imaginaire = 1 + 2j"
   ]
  },
  {
   "cell_type": "markdown",
   "metadata": {},
   "source": [
    "Un autre type fondamental en Python est le booléen : **Vrai** ou **Faux**, ou plutôt en Python **True** et **False**. On peut aussi utilise 1 et 0 respectivement. De nombreux tests renvoient un booléen et permettent par exemple de comparer des variables."
   ]
  },
  {
   "cell_type": "code",
   "execution_count": null,
   "metadata": {},
   "outputs": [],
   "source": [
    "True"
   ]
  },
  {
   "cell_type": "code",
   "execution_count": null,
   "metadata": {},
   "outputs": [],
   "source": [
    "False"
   ]
  },
  {
   "cell_type": "markdown",
   "metadata": {},
   "source": [
    "En Python un \\# précède un commentaire qui sera ignoré par l'interpréteur. Il est important de bien commenter un code pour en améliorer la lisibilité !"
   ]
  },
  {
   "cell_type": "code",
   "execution_count": null,
   "metadata": {},
   "outputs": [],
   "source": [
    "a == 1 # teste si a vaut 1"
   ]
  },
  {
   "cell_type": "code",
   "execution_count": null,
   "metadata": {},
   "outputs": [],
   "source": [
    "b < 2.3 # teste si b est strictement plus petit que 1"
   ]
  },
  {
   "cell_type": "code",
   "execution_count": null,
   "metadata": {},
   "outputs": [],
   "source": [
    "a >= b # teste si a est supérieur ou égal à 1"
   ]
  },
  {
   "cell_type": "markdown",
   "metadata": {},
   "source": [
    "D'autres tests sont **!=** (différents), **in** (inclusion dans un ensemble)."
   ]
  },
  {
   "cell_type": "markdown",
   "metadata": {},
   "source": [
    "### Opérations mathématiques"
   ]
  },
  {
   "cell_type": "markdown",
   "metadata": {},
   "source": [
    "Quelques opérations mathématiques simples sont directement disponibles en Python :\n",
    "- \\+ pour l'addition\n",
    "- \\- pour la soustraction\n",
    "- \\* pour la multiplication\n",
    "- / pour la division\n",
    "- \\** pour la puissance\n",
    "- // pour le quotient de la division euclidienne\n",
    "- \\% pour le reste de la division euclidienne\n",
    "- abs(x) pour la valeur absolue\n",
    "- round(x,n) pour arrondir x à n décimales"
   ]
  },
  {
   "cell_type": "code",
   "execution_count": null,
   "metadata": {},
   "outputs": [],
   "source": [
    "5//3"
   ]
  },
  {
   "cell_type": "code",
   "execution_count": null,
   "metadata": {},
   "outputs": [],
   "source": [
    "round(2.1235678432937,5)"
   ]
  },
  {
   "cell_type": "code",
   "execution_count": null,
   "metadata": {},
   "outputs": [],
   "source": [
    "abs(-1)"
   ]
  },
  {
   "cell_type": "markdown",
   "metadata": {},
   "source": [
    "Mais des fonctions additionnelles existent (par exemple la racine carrée *sqrt()*, l'exponentielle *exp()*, les fonctions trigonométriques, etc.) et sont regroupées dans des modules, des extensions de Python. Le module *math* contient ces exemples de fonctions mathématiques dont la racine carrée."
   ]
  },
  {
   "cell_type": "code",
   "execution_count": null,
   "metadata": {},
   "outputs": [],
   "source": [
    "from math import sqrt\n",
    "\n",
    "c = sqrt(4)\n",
    "\n",
    "print(c)"
   ]
  },
  {
   "cell_type": "markdown",
   "metadata": {},
   "source": [
    "### Conseil\n",
    "Une bonne pratique de programmation est de regrouper toutes ses importations de modules au début du code. C'est très important pour la lisibilité et la clarté du code. De plus, il est FORTEMENT conseillé de déclarer les variables que l'on utilise dès le début du code et d'utiliser des noms de variable explicites."
   ]
  },
  {
   "cell_type": "markdown",
   "metadata": {},
   "source": [
    "### Les fonctions\n",
    "\n",
    "Python est un langage qui permet d'utiliser des fonctions. Comme en mathématiques, une fonction prend en argument un ou plusieurs variables et renvoie, après avoir effectué certaines opérations définies, une ou plusieurs autres variables.\n",
    "\n",
    "La fonction *somme* si après prend en entrée 2 nombres et retourne la somme des deux :"
   ]
  },
  {
   "cell_type": "code",
   "execution_count": null,
   "metadata": {},
   "outputs": [],
   "source": [
    "def somme(n,m):\n",
    "    \"\"\"\n",
    "    Ceci est l'aide de la fonction.\n",
    "    Il est d'usage d'écrire ce que fait la fonction. Ex :\n",
    "    \n",
    "    somme(n,m)\n",
    "    Variables : n et m deux nombres\n",
    "    Sortie : un nombre\n",
    "    Retourne la somme de n et m\n",
    "    \"\"\"\n",
    "    s = n+m\n",
    "    return s"
   ]
  },
  {
   "cell_type": "markdown",
   "metadata": {},
   "source": [
    "La structure d'une déclaration de fonction est très précise. Le mot **def** précède le nom de la fonction. Ensuite, les arguments sont entre parenthèses, puis un \":\" marque le début du corps de la fonction. Celui-ci, qui contient tout le code exécuté dans la fonction est indenté. Le résultat de la fonction est renvoyé avec la clé **return**"
   ]
  },
  {
   "cell_type": "markdown",
   "metadata": {},
   "source": [
    "L'aide d'une fonction, définie dans votre code ou d'une fonction pré-existante en python, est obtenue à l'aide de la fonction *help*"
   ]
  },
  {
   "cell_type": "code",
   "execution_count": null,
   "metadata": {},
   "outputs": [],
   "source": [
    "help(somme)"
   ]
  },
  {
   "cell_type": "code",
   "execution_count": null,
   "metadata": {},
   "outputs": [],
   "source": [
    "help(sqrt)"
   ]
  },
  {
   "cell_type": "code",
   "execution_count": null,
   "metadata": {},
   "outputs": [],
   "source": [
    "print(somme(3,4.5))"
   ]
  },
  {
   "cell_type": "code",
   "execution_count": null,
   "metadata": {},
   "outputs": [],
   "source": [
    "print(s)"
   ]
  },
  {
   "cell_type": "code",
   "execution_count": null,
   "metadata": {},
   "outputs": [],
   "source": [
    "print(n)"
   ]
  },
  {
   "cell_type": "markdown",
   "metadata": {},
   "source": [
    "Cet exemple permet d'illustrer plusieurs caractéristiques importantes de Python :\n",
    "- C'est un langage indenté, c'est-à-dire que les informations qui font partie d'un même bloc ont le même décalage par rapport à la marge à gauche. C'est le cas des deux lignes qui sont au sein de la fonction *somme(n,m)*\n",
    "- La variable *s* au sein de la fonction *somme(n,m)* est une variable locale. Elle n'existe qu'à l'intérieur du cadre de cette fonction. Ainsi, \"print(s)\" affiche une erreur. De même, *n* et *m* ne sont pas définis en dehors de la fonction *somme*."
   ]
  },
  {
   "cell_type": "markdown",
   "metadata": {},
   "source": [
    "### Exercice\n",
    "Définir une variable *n* qui vaut 3.5 et utiliser la fonction *somme* pour calculer la somme de 2.2 et 5.8. Est-ce que notre variable *n* et celle de la fonction *somme* sont les mêmes ? Expliquer la notion de variable locale, par opposition à une variable globale."
   ]
  },
  {
   "cell_type": "code",
   "execution_count": null,
   "metadata": {},
   "outputs": [],
   "source": []
  },
  {
   "cell_type": "markdown",
   "metadata": {},
   "source": [
    "### Exercice\n",
    "Utiliser ce qui a été vu jusque-là pour définir une fonction *hypothenuse* qui calcule la longueur de l'hypothénuse *c* d'un triangle rectangle de côtés *a* et *b*."
   ]
  },
  {
   "cell_type": "code",
   "execution_count": null,
   "metadata": {},
   "outputs": [],
   "source": []
  },
  {
   "cell_type": "markdown",
   "metadata": {},
   "source": [
    "### Les ensembles de valeurs"
   ]
  },
  {
   "cell_type": "markdown",
   "metadata": {},
   "source": [
    "Parfois, il est utile de regrouper un ensemble de valeurs dans un groupe que l'on nomme. Python dispose de plusieurs éléments qui sont des ensembles de valeurs. Passons en revue quelques options :"
   ]
  },
  {
   "cell_type": "markdown",
   "metadata": {},
   "source": [
    "#### La liste\n",
    "Une liste est définie par des crochets \\[ \\], les éléments sont séparés par des virgules ,\n",
    "\n",
    "On appelle un élément de la liste par son indice dans la liste, en démarrant la numérotation à 0."
   ]
  },
  {
   "cell_type": "code",
   "execution_count": null,
   "metadata": {},
   "outputs": [],
   "source": [
    "liste = [1, 2, 3]"
   ]
  },
  {
   "cell_type": "code",
   "execution_count": null,
   "metadata": {},
   "outputs": [],
   "source": [
    "liste[0]"
   ]
  },
  {
   "cell_type": "code",
   "execution_count": null,
   "metadata": {
    "scrolled": true
   },
   "outputs": [],
   "source": [
    "liste[2]"
   ]
  },
  {
   "cell_type": "markdown",
   "metadata": {},
   "source": [
    "Une liste est ordonnée et modifiable."
   ]
  },
  {
   "cell_type": "code",
   "execution_count": null,
   "metadata": {},
   "outputs": [],
   "source": [
    "print(liste)"
   ]
  },
  {
   "cell_type": "code",
   "execution_count": null,
   "metadata": {},
   "outputs": [],
   "source": [
    "liste.append(5) # ajoute un élément à la fin de la liste"
   ]
  },
  {
   "cell_type": "code",
   "execution_count": null,
   "metadata": {},
   "outputs": [],
   "source": [
    "print(liste)"
   ]
  },
  {
   "cell_type": "code",
   "execution_count": null,
   "metadata": {},
   "outputs": [],
   "source": [
    "liste[1] = 8"
   ]
  },
  {
   "cell_type": "code",
   "execution_count": null,
   "metadata": {},
   "outputs": [],
   "source": [
    "print(liste)"
   ]
  },
  {
   "cell_type": "markdown",
   "metadata": {},
   "source": [
    "#### Quelques fonctions suppémentaires\n",
    "\n",
    "En plus de la sélection d'un élément de la liste par son indice, d'autres fonctions s'appliquent à cet ensemble."
   ]
  },
  {
   "cell_type": "code",
   "execution_count": null,
   "metadata": {},
   "outputs": [],
   "source": [
    "len(liste) # retourne le nombre d'éléments dans la liste"
   ]
  },
  {
   "cell_type": "code",
   "execution_count": null,
   "metadata": {},
   "outputs": [],
   "source": [
    "del liste[0]"
   ]
  },
  {
   "cell_type": "code",
   "execution_count": null,
   "metadata": {},
   "outputs": [],
   "source": [
    "print(liste)"
   ]
  },
  {
   "cell_type": "code",
   "execution_count": null,
   "metadata": {
    "scrolled": true
   },
   "outputs": [],
   "source": [
    "min(liste) # pertinent si il existe un moyen de comparer mathématiquement les éléments de la liste"
   ]
  },
  {
   "cell_type": "code",
   "execution_count": null,
   "metadata": {},
   "outputs": [],
   "source": [
    "max(liste)"
   ]
  },
  {
   "cell_type": "code",
   "execution_count": null,
   "metadata": {},
   "outputs": [],
   "source": [
    "sum(liste)"
   ]
  },
  {
   "cell_type": "markdown",
   "metadata": {},
   "source": [
    "Il est également possible de prendre des éléments à partir de la fin de la liste."
   ]
  },
  {
   "cell_type": "code",
   "execution_count": null,
   "metadata": {},
   "outputs": [],
   "source": [
    "liste[-1]"
   ]
  },
  {
   "cell_type": "code",
   "execution_count": null,
   "metadata": {},
   "outputs": [],
   "source": [
    "liste[-2]"
   ]
  },
  {
   "cell_type": "code",
   "execution_count": null,
   "metadata": {},
   "outputs": [],
   "source": [
    "liste[-3]"
   ]
  },
  {
   "cell_type": "markdown",
   "metadata": {},
   "source": [
    "Nous avons déjà vu la méthode *liste.append(élément)* qui permet d'ajouter *élément* au bout de la liste. Il existe d'autres méthodes qui s'appliquent aux listes. Une méthode modifie directement la liste, contrairement à une fonction qui retourne une nouvelle liste"
   ]
  },
  {
   "cell_type": "code",
   "execution_count": null,
   "metadata": {},
   "outputs": [],
   "source": [
    "print(liste)\n",
    "liste.insert(2,7) # ajoute 7 en 3-ième position (indice 2, en comptant à partir de 0)\n",
    "liste.append(3)\n",
    "print(liste)"
   ]
  },
  {
   "cell_type": "code",
   "execution_count": null,
   "metadata": {},
   "outputs": [],
   "source": [
    "liste.remove(3) # supprime la première occurrence de la valeur\n",
    "print(liste)"
   ]
  },
  {
   "cell_type": "code",
   "execution_count": null,
   "metadata": {},
   "outputs": [],
   "source": [
    "liste.index(5) # retourne l'indice de la première occurrence de la valeur dans liste"
   ]
  },
  {
   "cell_type": "code",
   "execution_count": null,
   "metadata": {
    "scrolled": true
   },
   "outputs": [],
   "source": [
    "liste.pop(2) # supprime l'élément en 3-ième position et renvoie l'élément supprimé"
   ]
  },
  {
   "cell_type": "code",
   "execution_count": null,
   "metadata": {},
   "outputs": [],
   "source": [
    "print(liste)"
   ]
  },
  {
   "cell_type": "code",
   "execution_count": null,
   "metadata": {},
   "outputs": [],
   "source": [
    "liste.sort() # trie la liste, cela ne renvoie rien"
   ]
  },
  {
   "cell_type": "code",
   "execution_count": null,
   "metadata": {},
   "outputs": [],
   "source": [
    "print(liste) # la liste est modifiée directement"
   ]
  },
  {
   "cell_type": "code",
   "execution_count": null,
   "metadata": {},
   "outputs": [],
   "source": [
    "liste2 = [4,5,2,9,1]\n",
    "liste3 = sorted(liste2) # fonction de tri"
   ]
  },
  {
   "cell_type": "code",
   "execution_count": null,
   "metadata": {},
   "outputs": [],
   "source": [
    "print(liste2) # la liste n'est pas modifiée"
   ]
  },
  {
   "cell_type": "code",
   "execution_count": null,
   "metadata": {},
   "outputs": [],
   "source": [
    "print(liste3) # la liste triée est renvoyée par la fonction sorted(liste)"
   ]
  },
  {
   "cell_type": "markdown",
   "metadata": {},
   "source": [
    "#### Le tuple\n",
    "Un tuple est un ensemble de valeurs très similaire à une liste. Il est défini par des parenthèses \\( \\), les éléments sont séparés par des virgules ,\n",
    "\n",
    "À la différence de la liste, les tuples sont immutables : on ne peut pas les modifier. Ils sont par contre ordonnés."
   ]
  },
  {
   "cell_type": "code",
   "execution_count": null,
   "metadata": {},
   "outputs": [],
   "source": [
    "tup = (1, 5, True, -0.05, 5j)"
   ]
  },
  {
   "cell_type": "code",
   "execution_count": null,
   "metadata": {},
   "outputs": [],
   "source": [
    "tup[2]"
   ]
  },
  {
   "cell_type": "code",
   "execution_count": null,
   "metadata": {},
   "outputs": [],
   "source": [
    "tup[3] = 5"
   ]
  },
  {
   "cell_type": "markdown",
   "metadata": {},
   "source": [
    "Comme vous pouvez le constater dans cet exemple, les tuples peuvent contenir des éléments de type différents. C'est aussi le cas des listes."
   ]
  },
  {
   "cell_type": "markdown",
   "metadata": {},
   "source": [
    "#### La chaîne de caractères\n",
    "Une chaîne de caractères est un ensemble de chaînes de caractères plus courtes. Son type est **str**. Au même titre qu'un mot ou une phrase, **str** est ordonné et modifiable."
   ]
  },
  {
   "cell_type": "code",
   "execution_count": null,
   "metadata": {},
   "outputs": [],
   "source": [
    "chaine = \"ceci est une chaine de caracteres qui contient des chiffres 1, 2, 3 au format str\""
   ]
  },
  {
   "cell_type": "code",
   "execution_count": null,
   "metadata": {},
   "outputs": [],
   "source": [
    "print(chaine)"
   ]
  },
  {
   "cell_type": "code",
   "execution_count": null,
   "metadata": {},
   "outputs": [],
   "source": [
    "chaine[6] # le 7ème (l'indexation commence à 0) caractère de chaine"
   ]
  },
  {
   "cell_type": "code",
   "execution_count": null,
   "metadata": {},
   "outputs": [],
   "source": [
    "chaine[63]"
   ]
  },
  {
   "cell_type": "markdown",
   "metadata": {},
   "source": [
    "chaine\\[63\\] est le nombre *2* mais sous la forme d'une chaîne de caractères (d'un seul caractère). On peut le transformer en entier avec la fonction **int** ou en nombre décimal avec **float** pour pouvoir lui appliquer des opérations mathématiques :"
   ]
  },
  {
   "cell_type": "code",
   "execution_count": null,
   "metadata": {},
   "outputs": [],
   "source": [
    "int(chaine[63])"
   ]
  },
  {
   "cell_type": "code",
   "execution_count": null,
   "metadata": {},
   "outputs": [],
   "source": [
    "float(chaine[63])+1.2"
   ]
  },
  {
   "cell_type": "markdown",
   "metadata": {},
   "source": [
    "On peut extraire une partie de *chaine* en donnant un intervalle. Les intervalles indiquent le premier indice et l'indice final (exclus). On peut également préciser le pas de l'intervalle. Les intervalles servent aussi pour les listes ou les tuples."
   ]
  },
  {
   "cell_type": "code",
   "execution_count": null,
   "metadata": {},
   "outputs": [],
   "source": [
    "chaine[9:12]"
   ]
  },
  {
   "cell_type": "code",
   "execution_count": null,
   "metadata": {},
   "outputs": [],
   "source": [
    "chaine[0:19:3]"
   ]
  },
  {
   "cell_type": "code",
   "execution_count": null,
   "metadata": {},
   "outputs": [],
   "source": [
    "print(liste)"
   ]
  },
  {
   "cell_type": "code",
   "execution_count": null,
   "metadata": {},
   "outputs": [],
   "source": [
    "liste[0:2]"
   ]
  },
  {
   "cell_type": "code",
   "execution_count": null,
   "metadata": {},
   "outputs": [],
   "source": [
    "liste[2:0:-1]"
   ]
  },
  {
   "cell_type": "markdown",
   "metadata": {},
   "source": [
    "Les guillemets doubles \\\" ou simples \\' permettent de créer des chaînes de caractères simples. Il est possible d'écrire des chaînes de caractères plus longues, sur plusieurs lignes, en utilisant 3 guillemets simples \\'\\'\\'"
   ]
  },
  {
   "cell_type": "code",
   "execution_count": null,
   "metadata": {},
   "outputs": [],
   "source": [
    "longuechaine = '''ceci est un texte pour illustrer une longue chaîne de caractères\n",
    "on peut sauter des lignes grâce aux trois guillemets simples et ajouter des caractères spéciaux\n",
    "par exemple, \"slash n\" permet de sauter une ligne\\net \"slash t\" insère une tabulation\\tcomme ici'''"
   ]
  },
  {
   "cell_type": "code",
   "execution_count": null,
   "metadata": {
    "scrolled": true
   },
   "outputs": [],
   "source": [
    "print(longuechaine)"
   ]
  },
  {
   "cell_type": "markdown",
   "metadata": {},
   "source": [
    "Enfin, les chaînes de caractères peuvent être formattées, c'est-à-dire qu'on y intègre des variables. Cela peut être très utile pour afficher des résultats stockés dans une variable. Différentes méthodes peuvent remplir cet objectif. Depuis python 3.6, il existe la méthode suivante, particulièrement simple :"
   ]
  },
  {
   "cell_type": "code",
   "execution_count": null,
   "metadata": {},
   "outputs": [],
   "source": [
    "chaineformattee = f\"La variable a vaut {a}\"\n",
    "print(chaineformattee)"
   ]
  },
  {
   "cell_type": "code",
   "execution_count": null,
   "metadata": {},
   "outputs": [],
   "source": [
    "chaineformatee = f\"On peut aussi afficher un nombre décimal avec 3 chiffres après la virgule : {2.1239567:.3f}\"\n",
    "print(chaineformatee)"
   ]
  },
  {
   "cell_type": "code",
   "execution_count": null,
   "metadata": {},
   "outputs": [],
   "source": [
    "chaineformatee = f\"Ou utiliser une notation exponentielle pour un très petit ou très grand nombre : {0.000012345:.2e}\"\n",
    "print(chaineformatee)"
   ]
  },
  {
   "cell_type": "markdown",
   "metadata": {},
   "source": [
    "#### Le dictionnaire\n",
    "Un dictionnaire, exactement comme son équivalent en linguistique, associe des entrées à des valeurs. On peut alors appeler le contenu d'une entrée, la modifier ou ajouter des entrées. Un dictionnaire n'est pas ordonné."
   ]
  },
  {
   "cell_type": "code",
   "execution_count": null,
   "metadata": {},
   "outputs": [],
   "source": [
    "dictionnaire = {\"entree\":5, 9:\"neuf\", 1:2}"
   ]
  },
  {
   "cell_type": "code",
   "execution_count": null,
   "metadata": {},
   "outputs": [],
   "source": [
    "print(dictionnaire)"
   ]
  },
  {
   "cell_type": "code",
   "execution_count": null,
   "metadata": {},
   "outputs": [],
   "source": [
    "dictionnaire[\"entree\"]"
   ]
  },
  {
   "cell_type": "code",
   "execution_count": null,
   "metadata": {},
   "outputs": [],
   "source": [
    "dictionnaire[1]=3"
   ]
  },
  {
   "cell_type": "code",
   "execution_count": null,
   "metadata": {},
   "outputs": [],
   "source": [
    "print(dictionnaire)"
   ]
  },
  {
   "cell_type": "code",
   "execution_count": null,
   "metadata": {},
   "outputs": [],
   "source": [
    "dictionnaire[\"nouvelle entree\"] = \"new\""
   ]
  },
  {
   "cell_type": "code",
   "execution_count": null,
   "metadata": {},
   "outputs": [],
   "source": [
    "print(dictionnaire)"
   ]
  },
  {
   "cell_type": "markdown",
   "metadata": {},
   "source": [
    "### Exercice\n",
    "Créer un ensemble (de votre choix) qui permettra d'associer à chacun des 12 mois de l'année le nombre de jours qu'il contient une année bissextile."
   ]
  },
  {
   "cell_type": "code",
   "execution_count": null,
   "metadata": {},
   "outputs": [],
   "source": []
  },
  {
   "cell_type": "markdown",
   "metadata": {},
   "source": [
    "### Les boucles\n",
    "\n",
    "Nous avons vu les variables, différents types d'ensemble de données, les fonctions et les opérations mathématiques élémentaires. Pour répéter plusieurs fois des instructions similaires, on peut intégrer des boucles à un algorithme. Toutes les boucles répondent à une structure précise. L'instruction de la boucle est suivie de \":\". Le code à exécuter à chaque pas est indenté.\n",
    "\n",
    "#### La boucle For\n",
    "\n",
    "La boucle **for** s'applique à un ensemble itérable, comme une liste, elle permet de prendre successivement chacune des valeurs de l'ensemble."
   ]
  },
  {
   "cell_type": "code",
   "execution_count": null,
   "metadata": {},
   "outputs": [],
   "source": [
    "print(liste)"
   ]
  },
  {
   "cell_type": "code",
   "execution_count": null,
   "metadata": {},
   "outputs": [],
   "source": [
    "for element in liste:\n",
    "    print(element)"
   ]
  },
  {
   "cell_type": "markdown",
   "metadata": {},
   "source": [
    "Pour une liste, on peut obtenir à la fois l'indice et la valeur grâce à **enumerate** :"
   ]
  },
  {
   "cell_type": "code",
   "execution_count": null,
   "metadata": {},
   "outputs": [],
   "source": [
    "for indice,valeur in enumerate(liste):\n",
    "    print(f\"L'indice est {indice} et la valeur associée dans 'liste' est {valeur}\")"
   ]
  },
  {
   "cell_type": "markdown",
   "metadata": {},
   "source": [
    "La boucle **for** peut également s'appliquer à un tuple ou à une chaîne de caractères :"
   ]
  },
  {
   "cell_type": "code",
   "execution_count": null,
   "metadata": {
    "scrolled": true
   },
   "outputs": [],
   "source": [
    "l = []\n",
    "for i in (2.1, -4.0, 3.25):\n",
    "    l.append(i*2)\n",
    "print(l)"
   ]
  },
  {
   "cell_type": "code",
   "execution_count": null,
   "metadata": {},
   "outputs": [],
   "source": [
    "for c in chaine[0:10]:\n",
    "    print(c)"
   ]
  },
  {
   "cell_type": "markdown",
   "metadata": {},
   "source": [
    "Il est également possible d'itérer sur des entiers en créant une gamme d'entiers :"
   ]
  },
  {
   "cell_type": "code",
   "execution_count": null,
   "metadata": {},
   "outputs": [],
   "source": [
    "print(\"De 0 à 4 (= 5 entiers à partir de 0) :\")\n",
    "for i in range(5):\n",
    "    print(i)\n",
    "\n",
    "print(\"De 1 à 3 :\")\n",
    "for j in range(1,4):\n",
    "    print(j)\n",
    "\n",
    "print(\"De 9 à 5 (exclus) à l'envers et avec un pas de 2 :\")\n",
    "for i in range(9,5,-2):\n",
    "    print(i)\n",
    "\n",
    "print(\"De 3 à 10 (exclus) avec un pas de 3 :\")\n",
    "for i in range(3,10,3):\n",
    "    print(i)"
   ]
  },
  {
   "cell_type": "markdown",
   "metadata": {},
   "source": [
    "Au sein d'une boucle, il est possible d'utiliser la variable itérée en appelant des fonctions, en faisant des opérations mathématiques dessus, comme indices de listes, etc."
   ]
  },
  {
   "cell_type": "markdown",
   "metadata": {},
   "source": [
    "#### La boucle While\n",
    "\n",
    "La boucle **while** permet de réaliser des opérations tant qu'une condition n'est pas remplie. Attention, il faut absolument s'assurer que la condition est réalisable, pour éviter d'entrer dans une boucle infinie qui ne s'arrêtera jamais."
   ]
  },
  {
   "cell_type": "code",
   "execution_count": null,
   "metadata": {},
   "outputs": [],
   "source": [
    "i=10\n",
    "while i>0:\n",
    "    i = i-1\n",
    "    print(i)\n",
    "print(f\"On sort de la boucle : i={i}\")"
   ]
  },
  {
   "cell_type": "code",
   "execution_count": null,
   "metadata": {},
   "outputs": [],
   "source": [
    "i=10\n",
    "while i>0:\n",
    "    i -= 1\n",
    "    print(i)\n",
    "print(f\"On sort de la boucle : i={i}\")"
   ]
  },
  {
   "cell_type": "markdown",
   "metadata": {},
   "source": [
    "Au sein d'une boucle **for** ou **while**, on peut utiliser des commandes spécifiques. **continue** permet de passer immédiatement au tour suivant. **break** permet de sortir immédiatement de la boucle"
   ]
  },
  {
   "cell_type": "code",
   "execution_count": null,
   "metadata": {},
   "outputs": [],
   "source": [
    "i=10\n",
    "while i>0:\n",
    "    i -= 1\n",
    "    break\n",
    "print(f\"On sort de la boucle : i={i}\")"
   ]
  },
  {
   "cell_type": "markdown",
   "metadata": {},
   "source": [
    "### Le test de condition\n",
    "\n",
    "Lorsqu'on écrit un programme, il est fréquent de devoir adapter son code en fonction d'une condition pré-déterminée. On utilise pour cela **if** **elif**(= else + if, c'est optionnel) et **else**. Ces mots-clés sont suivis d'un test qui renvoie **True** ou **False** (ou 1 et 0 respectivement). "
   ]
  },
  {
   "cell_type": "code",
   "execution_count": null,
   "metadata": {},
   "outputs": [],
   "source": [
    "l=[-1,3,10]\n",
    "\n",
    "for ind in range(3):\n",
    "    print(f\"Itération {ind}, valeur {l[ind]}\")\n",
    "    if l[ind] <= 0:\n",
    "        print(f\"{l[ind]} est négatif ou nul\")\n",
    "    elif l[ind]>8:\n",
    "        print(f\"{l[ind]} est grand\")\n",
    "    else:\n",
    "        print(f\"sinon, {l[ind]} est positif mais petit\")"
   ]
  },
  {
   "cell_type": "markdown",
   "metadata": {},
   "source": [
    "On peut écrire autant de **elif** que nécessaire (y compris ne pas en utiliser). La forme la plus simple du test **if** ne comporte que l'instruction **if** (sans **else**)"
   ]
  },
  {
   "cell_type": "markdown",
   "metadata": {},
   "source": [
    "### Exercice à rendre 1\n",
    "Créer une liste l qui contient, pour chaque entier de 1 à 11 :\n",
    "- le carré du nombre si il est pair\n",
    "- le cube du nombre si il est impair"
   ]
  },
  {
   "cell_type": "code",
   "execution_count": null,
   "metadata": {},
   "outputs": [],
   "source": []
  },
  {
   "cell_type": "markdown",
   "metadata": {},
   "source": [
    "La même chose peut être faite plus simplement et plus efficacement grâce à la *list comprehension* :"
   ]
  },
  {
   "cell_type": "code",
   "execution_count": null,
   "metadata": {},
   "outputs": [],
   "source": [
    "l = [i**2 if i%2==0 else i**3 for i in range(1,12)]\n",
    "print(l)"
   ]
  },
  {
   "cell_type": "markdown",
   "metadata": {},
   "source": [
    "### Les fichiers\n",
    "\n",
    "Enfin, **Python** permet de lire et d'écrire dans des fichiers de texte. Pour cela il est nécessaire d'ouvrir un fichier avec **open**, de travailler avec, puis de le fermer avec **close**.\n",
    "\n",
    "Ouvrons le fichier \"fruits.txt\" disponible dans le même répertoire que ce notebook."
   ]
  },
  {
   "cell_type": "code",
   "execution_count": null,
   "metadata": {},
   "outputs": [],
   "source": [
    "fichier = open(\"fruits.txt\",\"r\") # \"r\" permet de se placer en mode lecture, c'est le mode par défaut\n",
    "# on peut donc utiliser aussi : fichier = open(\"fruits.txt\")\n",
    "\n",
    "lignes = fichier.readlines()\n",
    "\n",
    "fichier.close()\n",
    "\n",
    "print(lignes)"
   ]
  },
  {
   "cell_type": "code",
   "execution_count": null,
   "metadata": {},
   "outputs": [],
   "source": [
    "fichier = open(\"fruits.txt\",\"r\") # \"r\" permet de se placer en mode lecture, c'est le mode par défaut\n",
    "# on peut donc utiliser aussi : fichier = open(\"fruits.txt\")\n",
    "\n",
    "ligne = fichier.readline()\n",
    "print(ligne)\n",
    "\n",
    "ligne = fichier.readline()\n",
    "print(ligne)\n",
    "\n",
    "fichier.close()"
   ]
  },
  {
   "cell_type": "code",
   "execution_count": null,
   "metadata": {},
   "outputs": [],
   "source": [
    "fichier = open(\"fruits.txt\",\"r\") # \"r\" permet de se placer en mode lecture, c'est le mode par défaut\n",
    "# on peut donc utiliser aussi : fichier = open(\"fruits.txt\")\n",
    "\n",
    "ligne = fichier.readline()\n",
    "while ligne != \"\":\n",
    "    print(ligne)\n",
    "    ligne = fichier.readline()\n",
    "print(ligne)\n",
    "\n",
    "fichier.close()"
   ]
  },
  {
   "cell_type": "markdown",
   "metadata": {},
   "source": [
    "Il est recommandé de remplacer le duo **open** & **close** par une instruction **with open(\"fichier.txt\") as f:** qui permet de s'assurer que le fichier est bien fermé :"
   ]
  },
  {
   "cell_type": "code",
   "execution_count": null,
   "metadata": {},
   "outputs": [],
   "source": [
    "with open(\"fruits.txt\") as fichier:\n",
    "    ligne = fichier.readline()\n",
    "print(ligne)\n",
    "# fichier est ouvert dans le bloc indenté et fermé ailleurs"
   ]
  },
  {
   "cell_type": "markdown",
   "metadata": {},
   "source": [
    "Pour écrire dans un fichier, on utilise l'argument \"w\" dans **open**, à la place de \"r\". On peut également utiliser \"a\" pour ajouter du texte à la fin d'un fichier existant. En effet, chaque ouverture avec l'option \"w\" efface tout fichier pré-existant portant ce nom."
   ]
  },
  {
   "cell_type": "code",
   "execution_count": null,
   "metadata": {},
   "outputs": [],
   "source": [
    "with open(\"ecriture.txt\",\"w\") as f:\n",
    "    f.write(\"J'écris dans le fichier ecriture.txt\")\n",
    "# La méthode write permet d'écrire dans un fichier ouvert en mode écriture"
   ]
  },
  {
   "cell_type": "markdown",
   "metadata": {},
   "source": [
    "### Exercice\n",
    "Essayer d'ouvrir (et d'écrire dans) le fichier \"ecriture.txt\" que vous venez d'écrire, en mode \"w\". Que contient-il une fois refermé ? Réessayer en mode \"a\"."
   ]
  },
  {
   "cell_type": "code",
   "execution_count": null,
   "metadata": {},
   "outputs": [],
   "source": []
  },
  {
   "cell_type": "code",
   "execution_count": null,
   "metadata": {},
   "outputs": [],
   "source": []
  },
  {
   "cell_type": "markdown",
   "metadata": {},
   "source": [
    "### Exercice\n",
    "En ouvrant un fichier en mode lecture \"r\", est-il possible d'écrire dedans ? En ouvrant un fichier en mode écriture \"w\" ou \"a\", est-il possible de lire son contenu en même temps ?"
   ]
  },
  {
   "cell_type": "code",
   "execution_count": null,
   "metadata": {},
   "outputs": [],
   "source": []
  },
  {
   "cell_type": "code",
   "execution_count": null,
   "metadata": {},
   "outputs": [],
   "source": []
  },
  {
   "cell_type": "code",
   "execution_count": null,
   "metadata": {},
   "outputs": [],
   "source": []
  },
  {
   "cell_type": "markdown",
   "metadata": {},
   "source": [
    "Les différents modes possibles d'ouverture d'un fichier sont résumés dans ce tableau :\n",
    "\n",
    "|          Mode          |  r   |  r+  |  w   |  w+  |  a   |  a+  |\n",
    "| :--------------------: | :--: | :--: | :--: | :--: | :--: | :--: |\n",
    "| Lecture                            |  +   |  +   |      |  +   |      |  +   |\n",
    "| Écriture                           |      |  +   |  +   |  +   |  +   |  +   |\n",
    "| Création                           |      |      |  +   |  +   |  +   |  +   |\n",
    "| Remplacement d'un fichier existant |      |      |  +   |  +   |      |      |\n",
    "| À partir du début                  |  +   |  +   |  +   |  +   |      |      |\n",
    "| Ajout à la fin                     |      |      |      |      |  +   |  +   |"
   ]
  },
  {
   "cell_type": "markdown",
   "metadata": {},
   "source": [
    "### Exercice à rendre 2\n",
    "Lire le fichier \"nombres.txt\" et écrire dans \"doubles.out\" le double de chacun des entiers de \"nombres.txt\" (un nombre par ligne, comme dans le fichier \"nombres.txt\")"
   ]
  },
  {
   "cell_type": "code",
   "execution_count": null,
   "metadata": {},
   "outputs": [],
   "source": []
  },
  {
   "cell_type": "markdown",
   "metadata": {},
   "source": [
    "### Exercice à rendre 3\n",
    "Créer une fonction **crible** qui prend comme argument un entier *n* et renvoie les nombres premiers inférieurs ou égaux à *n*. On utilisera pour cela le crible d'Ératosthène décrit ci-après. Puis utiliser cette fonction pour créer un fichier \"premiers10-1000.txt\" qui contient tous les nombres premiers entre 10 et 1000 (un par ligne).\n",
    "\n",
    "#### Crible d'Ératosthène (vers -200 av. J.-C.)\n",
    "\n",
    "On rappelle qu'un nombre premier est un entier qui admet exactement 2 diviseurs entiers, 1 et lui-même. Ainsi, 0 n'est pas premier car il admet une infinité de diviseurs et 1 n'est pas premier car il n'admet que 1 comme diviseur.\n",
    "\n",
    "Dans le crible d'Ératosthène, on commence par écrire la liste de tous les entiers de 2 à *n*. Puis on prend le premier entier de la liste et on le garde mais on supprime tous ses multiples. On réitère cette opération de sélection du nombre suivant encore présent puis de suppression de ses multiples, etc."
   ]
  },
  {
   "cell_type": "code",
   "execution_count": null,
   "metadata": {},
   "outputs": [],
   "source": []
  },
  {
   "cell_type": "code",
   "execution_count": null,
   "metadata": {},
   "outputs": [],
   "source": []
  }
 ],
 "metadata": {
  "kernelspec": {
   "display_name": "Python 3 (ipykernel)",
   "language": "python",
   "name": "python3"
  },
  "language_info": {
   "codemirror_mode": {
    "name": "ipython",
    "version": 3
   },
   "file_extension": ".py",
   "mimetype": "text/x-python",
   "name": "python",
   "nbconvert_exporter": "python",
   "pygments_lexer": "ipython3",
   "version": "3.8.12"
  }
 },
 "nbformat": 4,
 "nbformat_minor": 4
}
