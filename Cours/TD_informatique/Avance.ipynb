{
 "cells": [
  {
   "cell_type": "code",
   "execution_count": 6,
   "metadata": {},
   "outputs": [],
   "source": [
    "import numpy as np\n",
    "import matplotlib.pyplot as plt"
   ]
  },
  {
   "cell_type": "markdown",
   "metadata": {},
   "source": [
    "# <div align=\"center\"> Tableaux sur Python </div>\n",
    "\n",
    "# Table des matières : \n",
    "1. Les types en C++\n",
    " 1. Les entiers\n",
    " 2. Les flottants\n",
    " 3. Les complexes\n",
    "2. Les tableaux Numpy\n",
    " 1. Définitions & Propriétés\n",
    " 2. Organisation en mémoire des tableaux\n",
    " 3. Déclaration & Initialisation\n",
    " 4. Sélection \n",
    "3. Manipulation algébrique des tableaux \n",
    " 1. Opérations binaires\n",
    "  * élément par élément : +, -, *, /\n",
    " 2. Opérations matricielles\n",
    "  * Produit matriciel\n",
    "  * Opérations vectorisées\n",
    "  * Inversion de matrices\n",
    " 3. Regressions polynomiales\n",
    " 4. Traitement du signal : transformée de Fourier\n",
    "3. Méthodes utiles sur scipy\n",
    " 1. Régression non-linéaire\n",
    " 2. Résolution d'équations non-linéaires\n",
    "\n",
    "L'objet de ce TD-cours est l'étude de quelques outils intégrés dans python qui sont très employés dans le traitement des données ou la modélisation en physico-chimie : numpy (tableau et vectorisation), scipy (résolution d'équations, régression) et matplotlib (représentation graphique).\n",
    "\n",
    "Le langage Python n'a pas été conçu à l'origine pour le calcul scientifique. Cependant, il aligne nombre de qualités utiles dans le traitement de données : simplicité de la syntaxe, modulabilité et interprétation. Dévélopée en 2006, conjointement à Scipy, la bibliothèque Numpy permet la manipulation de tableaux à multiples dimensions ainsi que la réalisation d'opérations vectorisées : transposition, sommation, ..."
   ]
  },
  {
   "cell_type": "markdown",
   "metadata": {},
   "source": [
    "# Les types en C++\n",
    "\n",
    "Numpy consiste en une surcouche de Python. Par conséquent, il dispose de son propre système de type importé du C/C++. Lorsque vous travaillerez avec numpy, il est fortement recommander d'utiliser les types associés à Numpy plutôt que les types natifs de Python.\n",
    "\n",
    "Nous allons commencer par une description des différents types et chercher à comprendre leur représentation.\n",
    "\n",
    "## Les entiers\n",
    "\n",
    "Notre système de numérotation est basé sur un système décimal qui présente nombre d'avantage en calcul formel. Cependant, les machines ne savent calculer qu'en base 2. \n",
    "\n",
    "Un nombre entier positif en base $b$ est un p-tuplet de 0 et de 1, appelés **bits** :\n",
    "\n",
    "$$\\left( u_{p-1}, u_{p-2}, \\ldots, u_0\\right)_b$$\n",
    "\n",
    "Un ensemble de 8 bits s'appelle un **octet**.\n",
    "\n",
    "En base 10, un nombre est représenté par : \n",
    "\n",
    "$$n_{10} = \\sum_{i=0}^{p-1} u_i b^i $$\n",
    "\n",
    "ex : dans une représentation à 8 bits,\n",
    "\n",
    "$$ \n",
    "\\begin{align*}\n",
    "(00011001)_2 &= 2^4 + 2^3 + 2^0 = 25_{10} \\\\\n",
    "(00101010)_2 &= 2^5 + 2^3 + 2^1 = 42_{10}\n",
    "\\end{align*}\n",
    "$$\n",
    "\n",
    "Les nombres entiers positifs sont représentés directement par son écriture en base 2. Les nombres entiers négatifs sont représentés en **complément à 2**, qui consiste à prendre l'équivalent du nombre positif moins l'unité, puis à inverser tous les bits.\n",
    "\n",
    "\n",
    "$$ \n",
    "\\begin{align*}\n",
    "-25_{10} & = \\overline{25_{10} - 1_{10}} = \\overline{24_{10}} \\\\\n",
    "&= \\overline{(00011000)_{2}} = (11100111)_2 \\\\\n",
    "-42_{10} &= \\overline{42_{10} - 1_{10}} = \\overline{41_{10}} \\\\\n",
    "&= \\overline{(00010101)_2} =  (11101010)_2 \\\\\n",
    "\\end{align*}\n",
    "$$\n",
    "\n",
    "Rq : le bit le plus à gauche indique le signe de l'entier. On l'appelle le **bit de poids fort**.\n",
    "\n",
    "Par conséquent, sur $N$ bits, les nombres représentables sont les suivants : \n",
    "\n",
    "$$ -2^{N - 1} \\leq i \\leq 2^{N-1} - 1$$\n",
    "\n",
    "Le tableau suivant résume un peu les différents types d'entier, leur nom et les limites de leur représentation : \n",
    "\n",
    "| Nombre de bits | Nombre d'octets | nom | Limites |\n",
    "| :------------: | :-------------: | :-: | :-----: |\n",
    "| 8 | 1 | caractère | (-128, 127) |\n",
    "| 16 | 2 | entier court | (-32768,  32767) |\n",
    "| 32 | 4 | entier long | (-2147483648, 2147483647) |\n",
    "| 64 | 8 | entier double long | (-9223372036854775808, 9223372036854775807) |\n",
    "\n",
    "**Application**\n",
    "\n",
    "Ecrivez les représentations sur 8 bits de : 2, 47, 100 et -46."
   ]
  },
  {
   "cell_type": "code",
   "execution_count": null,
   "metadata": {},
   "outputs": [],
   "source": []
  },
  {
   "cell_type": "markdown",
   "metadata": {},
   "source": [
    "## Les flottants\n",
    "\n",
    "Un nombre réel ou flottant est caractérisé par :\n",
    "1. son signe (s);\n",
    "2. son exposant ou caractéristique (e);\n",
    "3. sa mantisse (m).\n",
    "\n",
    "En fonctions du nombre (s+e+m) bits sur lequel la réel est encodé, il existe quelques encodages communs : \n",
    "\n",
    "| Nombre de bits | Nombre d'octets | nom | Méthode numpy associée |\n",
    "| :------------: | :-------------: | :-: | :--------------------: | \n",
    "| 16 | 2 | demi-précision | np.float16 |\n",
    "| 32 | 4 | simple précision | np.float32 |\n",
    "| 64 | 8 | double précision | np.float64 |\n",
    "| 128 | 16 | quadruple précision | np.float128 |\n",
    "\n",
    "Ce type de réel est représenté par un motif binaire de la forme : \n",
    "\n",
    "$$\\underbrace{s}_\\text{signe sur 1 bit}\\underbrace{eeeeeeee}_\\text{exposant sur n_e bits}\\underbrace{m----------m}_\\text{mantisse sur n_m bits}$$\n",
    "\n",
    "Comme pour les entiers, il existe différents types de représentation en fonction du nombre de bit permettant de présenter un réel : \n",
    "\n",
    "| Nombre de bits | (1,_ne,_nm) | Limites en absolu | Precision (CS) |\n",
    "| :------------: | :---------: | :---------------: | :------------: |\n",
    "| 16 | (1, 5, 10) | (3.1E-05, 504) | ~ 3 |\n",
    "| 32 | (1, 8, 23) | (1.2E-38, 3.4E+38) | ~ 6 |\n",
    "| 64 | (1, 11, 52) | (2.2E-308, 1.8E+308) | ~ 15 |\n",
    "| 128 | (1, 15, 112) | (, 1.2E+4932) | ~ 71 |\n",
    "\n",
    "Les représentations pour les différentes précisions, en fonction de (s, e, m), peuvent être données par les relations suivantes :\n",
    "$$\n",
    "\\begin{align*}\n",
    "r_{hp} &= s1.m × 2^{e−15}  \\\\\n",
    "r_{sp} &= s1.m × 2^{e−127}  \\\\\n",
    "r_{dp} & = s1.m × 2^{e−1023} \\\\\n",
    "r_{qp} & = s1.m × 2^{e−16383}\n",
    "\\end{align*}\n",
    "$$\n",
    "\n",
    "**Application :**\n",
    "Après avoir représenté 1.1 en flottant 16, montrer que sa représentation en flottant 32 et 64 est différente."
   ]
  },
  {
   "cell_type": "code",
   "execution_count": 16,
   "metadata": {},
   "outputs": [
    {
     "name": "stdout",
     "output_type": "stream",
     "text": [
      "1.1 1.0996094 1.099609375\n"
     ]
    }
   ],
   "source": [
    "f16 = np.float16(1.1)\n",
    "f32 = np.float32(f16)\n",
    "f64 = np.float64(f16)\n",
    "\n",
    "print(f16, f32, f64)"
   ]
  },
  {
   "cell_type": "markdown",
   "metadata": {},
   "source": [
    "Afin de faire le lien entre les flottants en base 10 et leur représentation en base 2 sur 32 bits, on va chercher à représenter 10.4 : \n",
    "\n",
    "1. On commence par représenter la partie entière et décimale de 10.4 en base 2 :  \n",
    "\n",
    "$$10.4 = \\frac{104}{10} = \\frac{52}{5} = \\frac{(110100)_2}{(101)_2}$$\n",
    "\n",
    "2. On réalise la division binaire de ce nombre : \n",
    "\n",
    "$$\\frac{(110100)_2}{(101)_2} = (1010,0110011001100110011\\ldots)_2 $$\n",
    "\n",
    "3. On met en valeur l'exposant et la mantisse : \n",
    "\n",
    "$$\n",
    "\\begin{align*}\n",
    "(1010,0110011001100110011\\ldots)_2 &= (1,0100110011001100110011\\ldots 2^3)_2 \\\\\n",
    "&= (1,0100110011001100110011\\ldots 2^{130-127})_2\n",
    "\\end{align*}\n",
    "$$\n",
    "\n",
    "4. On encode 130 dans 8 bits et on recopie la mantisse sur 23 bits : \n",
    "\n",
    "$$\n",
    "\\begin{align*}\n",
    "130_{10} &= (10000010)_2\\\\\n",
    "\\end{align*}\n",
    "$$\n",
    "\n",
    "d'où $$(10.4)_{10} = (0|10000010|01001100110011001100110)_2$$\n",
    "\n",
    "**Application :** Vous chercherez à représenter 20.2 en base 2 sur 32 bits."
   ]
  },
  {
   "cell_type": "code",
   "execution_count": null,
   "metadata": {},
   "outputs": [],
   "source": [
    "#Bonne chance"
   ]
  },
  {
   "cell_type": "markdown",
   "metadata": {},
   "source": [
    "## Les complexes\n",
    "\n",
    "Les complexes sont représentés sous la forme d'une paire paire de réels associé à la partie réelle et à la partie imaginaire.\n",
    "\n",
    "| Nombre de bits | Nombre d'octets | nom | Méthode numpy associée |\n",
    "| :------------: | :-------------: | :-: | :--------------------: | \n",
    "| 32 | 4 | paire de demi-précision | np.complex32 |\n",
    "| 64 | 8 | paire de simple précision | np.complex64 |\n",
    "| 128 | 16 | paire de double précision | np.complex128 |"
   ]
  },
  {
   "cell_type": "markdown",
   "metadata": {},
   "source": [
    "# Les tableaux Numpy\n",
    "\n",
    "Les tableaux numpy [*numpy array*] constituent un type particulier dans python. Il faut bien les distinguer des types natifs de python : list, tuple ou dict. \n",
    "\n",
    "%expliquer les différences principales\n",
    "\n",
    "### Définitions & propriétés\n",
    "\n",
    "Ces tableaux sont des **matrices denses**, par opposition aux **matrices creuses** [*sparses matrix*], caractérisées par : \n",
    "* un **rang** [*rank*] d’un tableau est son nombre de dimensions;\n",
    "* une (ou des) **étendue(s)** [*extent*], qui correspond(ent) au nombre(s) d'élément(s) dans dans cette dimension;\n",
    "* un **profil** [*shape*], qui est un vecteur dont chaque élément est l’étendue du tableau dans la dimension correspondante;\n",
    "* une **taille** [*size*], qui est le produit des éléments du vecteur correspondant à son profil;\n",
    "* un **type**, qui est le type des valeurs dans le tableau.\n",
    "\n",
    "Deux tableaux sont dits **conformants** s’ils ont le même profil. \n",
    "\n",
    "L'utilisation de la magic command \"?\" sur np.ndarray permet d'obtenir des informations sur les objets numpy. Nous allons commencer par représenter deux matrices conformantes (3,3) : \n",
    "\n",
    "$$\n",
    "A = \\begin{pmatrix}\n",
    "1 & 2 & 3 \\\\\n",
    "4 & 5 & 6 \\\\\n",
    "7 & 8 & 9 \\\\\n",
    "\\end{pmatrix}; B = \\begin{pmatrix} 1 & 4 & 7 \\\\\n",
    "2 & 5 & 8 \\\\\n",
    "3 & 6 & 9 \\\\ \\end{pmatrix}\n",
    "$$\n",
    "\n",
    "et chercher à identifier leurs propriétés associées. Nous allons nous appuyer sur les propriétés associées aux objets numpy : .shape, .size, .ndim (le poids en RAM, en octet, est donné par .nbytes)\n",
    "\n",
    " **Q.** Déterminer le rang, l'étendue, le profil et la taille de A et B en vous appuyant sur les propriétés des objets numpy\n"
   ]
  },
  {
   "cell_type": "code",
   "execution_count": 23,
   "metadata": {},
   "outputs": [
    {
     "name": "stdout",
     "output_type": "stream",
     "text": [
      "Profil :  (3, 3)\n",
      "A a pour étendue 3 dans la dimension 0 et de 3 dans la dimension 1\n",
      "Rang :  2\n",
      "Taille :  9\n",
      "Espace disque :  36 octets\n"
     ]
    }
   ],
   "source": [
    "# Consulter les informations principales sur Numpy\n",
    "## > np.ndarray?\n",
    "\n",
    "dtype = np.float32\n",
    "\n",
    "#Déclaration tableau\n",
    "A = np.array([[1,2,3], [4, 5, 6], [7, 8, 9]], dtype = dtype)\n",
    "B = np.array([[1,4,7], [2, 5, 8], [3, 6, 9]], dtype = dtype)\n",
    "\n",
    "# profil\n",
    "print(\"Profil : \",  A.shape)\n",
    "\n",
    "#étendue\n",
    "print(\"A a pour étendue 3 dans la dimension 0 et de 3 dans la dimension 1\")\n",
    "\n",
    "#rang\n",
    "print(\"Rang : \", A.ndim)\n",
    "\n",
    "#taille\n",
    "print(\"Taille : \", A.size)\n",
    "\n",
    "#Poids en RAM en octet\n",
    "print(\"Espace disque : \", A.nbytes,  \"octets\")"
   ]
  },
  {
   "cell_type": "markdown",
   "metadata": {},
   "source": [
    "### Organisation en mémoire\n",
    "\n",
    "Il est important de bien distinguer la représentation interpretée de A et B avec leur représentation en mémoire. L'instance associée à A est stockée sous la forme de \n",
    "* de données, représentées sous la forme d'une suite de cases mémoires, dont chacune représente les termes des matrices;\n",
    "* de métadonnées, contenant une ou plusieurs étiquettes (ici une seule A) et les propriétés de l'array (ici le format (3,3)).\n",
    "L'emplacement mémoire contigue porte un numéro d'identification qu'il est possible de visualiser en utilisant la propriété .data .\n",
    "\n",
    "Une manière simple d'avoir l'organisation d'une matrice est d'utiliser la méthode .ravel, évaluée au format 'C' (c.-à-d. que les données sont organisées comme dans les langages C/C++ par opposition à F pour fortran).\n",
    "\n",
    "Q. En vous appuyant sur A et B et en utilisant la fonction .ravel, montrer quel est l'axe le plus rapide. En déclarant que C = A, montrer que C et A ont le même emplacement mémoire. Quelles sont les conséquences immédiates pour vous utilisateur de python ?"
   ]
  },
  {
   "cell_type": "code",
   "execution_count": 24,
   "metadata": {},
   "outputs": [
    {
     "name": "stdout",
     "output_type": "stream",
     "text": [
      "[1. 2. 3. 4. 5. 6. 7. 8. 9.]\n",
      "[1. 4. 7. 2. 5. 8. 3. 6. 9.]\n",
      "En python, les matrices sont lues suivant les lignes puis suivant les colonnes.\n",
      "<memory at 0x7ff789c40ee0> <memory at 0x7ff75d6972b0> <memory at 0x7ff75d697380>\n",
      " A [[   1.    2.    3.]\n",
      " [   4.    5.    6.]\n",
      " [   7.    8. 1000.]] \n",
      " C [[   1.    2.    3.]\n",
      " [   4.    5.    6.]\n",
      " [   7.    8. 1000.]] \n",
      " D [[1.e+00 2.e+00 3.e+00]\n",
      " [4.e+00 5.e+00 6.e+00]\n",
      " [7.e+00 8.e+00 2.e+03]]\n"
     ]
    }
   ],
   "source": [
    "#Ravel au format C\n",
    "##A.ravel?\n",
    "\n",
    "#Test\n",
    "print(A.ravel('C'))\n",
    "print(B.ravel('C'))\n",
    "\n",
    "print(\"En python, les matrices sont lues suivant les lignes puis suivant les colonnes.\")\n",
    "\n",
    "C = A\n",
    "D = A.copy()\n",
    "\n",
    "print(A.data, C.data, D.data)\n",
    "\n",
    "C[2,2] = 1000\n",
    "D[2,2] = 2000\n",
    "\n",
    "print(' A', A, '\\n C', C, '\\n D', D)"
   ]
  },
  {
   "cell_type": "markdown",
   "metadata": {},
   "source": [
    "### Déclaration & Initialisation\n",
    "\n",
    "Pour déclarer et initier un tableau, il y a plusieurs manières de procéder : \n",
    " 1. élément par élément avec la fonction np.array;\n",
    " 2. un array vide avec la fonction np.empty;\n",
    " 3. un array plein composé exclusivement de 0 (np.zeros) ou exclusivement de 1 (np.ones);\n",
    " 4. une suite arithmétique de valeur initiale, finale et de raison définie par l'utilisateur (np.arange) dont les dimensions peuvent être ajustées (np.reshape).\n",
    " \n",
    "Initer un tableau nécessitent la déclaration des propriétés vues ci-dessus.\n",
    "    \n",
    "%Rappel : Pour voir les arguments de la fonction, on utilise \"?\".\n",
    "    \n",
    " **Q.** Déclarer une matrice C, D, E et F de dimensions (3, 3), en entier 64, d'une des 4 manières précédente"
   ]
  },
  {
   "cell_type": "code",
   "execution_count": 62,
   "metadata": {},
   "outputs": [
    {
     "name": "stdout",
     "output_type": "stream",
     "text": [
      " C =  [[1 1 1]\n",
      " [1 1 1]\n",
      " [1 1 1]] \n",
      " D =  [[1 4 7]\n",
      " [2 5 8]\n",
      " [3 6 9]] \n",
      " E =  [[1 1 1]\n",
      " [1 1 1]\n",
      " [1 1 1]] \n",
      " F =  [[1 1 1]\n",
      " [1 1 1]\n",
      " [1 1 1]]\n"
     ]
    }
   ],
   "source": [
    "shape = (3,3)\n",
    "dtype = np.int64\n",
    "\n",
    "E = np.array([[1,1,1],[1,1,1], [1,1,1]], dtype = dtype)\n",
    "F = np.empty(shape, dtype = dtype)\n",
    "G = np.ones(shape, dtype = dtype)\n",
    "H = np.reshape(np.arange(0, 9, 1, dtype = dtype), shape)\n",
    "\n",
    "print(' C = ', C, '\\n',\n",
    "     'D = ', D, '\\n',\n",
    "     'E = ', E, '\\n',\n",
    "     'F = ', F)"
   ]
  },
  {
   "cell_type": "markdown",
   "metadata": {},
   "source": [
    "### Sélection\n",
    "\n",
    "Dans une dimensions données de taille $N$, il est possible de sélectionner des sections régulières de tableaux, sous la forme d'un tableau, en faisant varier le ou les indices à l'aide d'un triplet de la forme \n",
    "$$ [limite_1] : [limite_2] [:pas]$$\n",
    "\n",
    "avec $limite_1$ : indice de début, $limite_2$ : indice de fin, $pas$ : l'incrément de l'indice.\n",
    "\n",
    "Dans le cas d'une matrice de dimension 2, le premier triplet permet la sélection selon une **ligne** tandis que le second permet la selection selon une **colonne**.\n",
    "\n",
    "**Q** Créer une matrice X composée de $90$ éléments, formattée en entier 32, dont chaque ligne correspond à une dizaine : \n",
    "$$\n",
    "X = \\begin{pmatrix}\n",
    "0 & 1 & \\cdots & 9 \\\\\n",
    "10 & 11 & \\cdots & 19\\\\\n",
    "\\dots & \\dots & \\dots & \\dots \\\\\n",
    "90 & 91 & \\cdots & 99\\\\\n",
    "\\end{pmatrix}\n",
    "$$\n",
    "\n",
    "Sélectionner uniquement les nombres composés dont les dizaines est un chiffre pair et les unités est un chiffre impaire. Représenter sous la forme d'un array de dimension 1 trié par ordre croissant."
   ]
  },
  {
   "cell_type": "code",
   "execution_count": 25,
   "metadata": {},
   "outputs": [
    {
     "name": "stdout",
     "output_type": "stream",
     "text": [
      "[[ 0  1  2  3  4  5  6  7  8  9]\n",
      " [10 11 12 13 14 15 16 17 18 19]\n",
      " [20 21 22 23 24 25 26 27 28 29]\n",
      " [30 31 32 33 34 35 36 37 38 39]\n",
      " [40 41 42 43 44 45 46 47 48 49]\n",
      " [50 51 52 53 54 55 56 57 58 59]\n",
      " [60 61 62 63 64 65 66 67 68 69]\n",
      " [70 71 72 73 74 75 76 77 78 79]\n",
      " [80 81 82 83 84 85 86 87 88 89]]\n",
      "[ 1  3  5  7  9 21 23 25 27 29 41 43 45 47 49 61 63 65 67 69 81 83 85 87\n",
      " 89]\n"
     ]
    }
   ],
   "source": [
    "X = np.arange(0, 90, 1, dtype = np.int32).reshape((9, 10))\n",
    "\n",
    "print(X)\n",
    "\n",
    "X_sort = X[0::2,1::2].ravel()\n",
    "\n",
    "print(X_sort)"
   ]
  },
  {
   "cell_type": "markdown",
   "metadata": {},
   "source": [
    "**Q.** En utilisant la magic command \"%%timeit\", lisez la matrice X selon l'ordre de priorité ligne-colonne puis colonne-ligne et montrez quel sens de lecture est le plus rapide. Expliquez cette différence."
   ]
  },
  {
   "cell_type": "code",
   "execution_count": 28,
   "metadata": {},
   "outputs": [
    {
     "name": "stdout",
     "output_type": "stream",
     "text": [
      "16.6 µs ± 655 ns per loop (mean ± std. dev. of 7 runs, 100000 loops each)\n"
     ]
    }
   ],
   "source": [
    "%%timeit\n",
    "for a in range(X.shape[0]) : \n",
    "    for b in range(X.shape[1]) : \n",
    "        X[a, b]"
   ]
  },
  {
   "cell_type": "code",
   "execution_count": 29,
   "metadata": {},
   "outputs": [
    {
     "name": "stdout",
     "output_type": "stream",
     "text": [
      "16.5 µs ± 833 ns per loop (mean ± std. dev. of 7 runs, 100000 loops each)\n"
     ]
    }
   ],
   "source": [
    "%%timeit\n",
    "for b in range(X.shape[1]) : \n",
    "    for a in range(X.shape[0]) : \n",
    "        X[a, b]"
   ]
  },
  {
   "cell_type": "code",
   "execution_count": 30,
   "metadata": {},
   "outputs": [
    {
     "name": "stdout",
     "output_type": "stream",
     "text": [
      "La lecture selon les lignes puis les colonnes est le plus rapide.\n"
     ]
    }
   ],
   "source": [
    "#Réponse\n",
    "print(\"La lecture selon les lignes puis les colonnes est le plus rapide.\")"
   ]
  },
  {
   "cell_type": "markdown",
   "metadata": {},
   "source": [
    "## Manipulation des tableaux \n",
    "\n",
    "### Opérations algébrique élément par élément : +, -, *, /\n",
    "\n",
    "Les opérateurs algébriques binaires sont exactement les mêmes que pour des entiers et des flottants. \n",
    "\n",
    "| Symbole | Expression | Interprétation |\n",
    "| ------- | ---------- | -------------- |\n",
    "| + | A + B | A s'additionne à B dans un nouvel emplacement mémoire |\n",
    "| - | A - B | A se soustrait à B dans un nouvel emplacement mémoire |\n",
    "| * | A * B | A se multiplie à B dans un nouvel emplacement mémoire |\n",
    "| / | A / B | A se divise à B dans un nouvel emplacement mémoire |\n",
    "| // | A // B | A se divise à B et donne la partie entière dans un nouvel emplacement mémoire |\n",
    "| % | A % B | A se divise à B et donne le reste de la division euclidienne dans un nouvel emplacement mémoire |\n",
    "\n",
    "Les opérandes A et B peuvent être : \n",
    "* des valeurs numériques;\n",
    "* des tableaux numpy **conformants**;\n",
    "* des expressions arithmétiques.\n",
    "\n",
    "Lors de la réaction de l'opération $A \\star B$, plusieurs cas de figure peuvent se présenter : \n",
    "* les 2 opérandes $A$ et $B$ sont du même type, l'expression arithmétique résultante sera aussi de ce type,\n",
    "* les 2 opérandes $A$ et $B$ sont d'un type différent, le type de l'expression arithmétique résultante sera exprimée de la manière suivante : \n",
    "\n",
    "$$\n",
    "np.bool < np.int8 < np.int16 < np.int32 < np.float16 < np.float32 < np.float64 < np.float128 < np.complex128 < np.complex256\n",
    "$$\n",
    "\n",
    "La fonction np.resulte_type(type1, type2) permet de connaître de l'opération arithmétique binaire entre type1 et type2. \n",
    "\n",
    "**Q.** Définissez une matrice G, formattée en flottant 32, de dimension (3, 3) composés de 1.0. Définissez une matrice diagonale H à partir de G composés de 2 (vous pourrez le faire naïvement en utilisant une boucle mais aussi en utilisant la fonction np.diag pour extraire la diagonale de G et fill_diagonal pour remplir la diagonale de H).\n"
   ]
  },
  {
   "cell_type": "code",
   "execution_count": 31,
   "metadata": {},
   "outputs": [
    {
     "name": "stdout",
     "output_type": "stream",
     "text": [
      " G [[1. 1. 1.]\n",
      " [1. 1. 1.]\n",
      " [1. 1. 1.]] \n",
      " H [[2. 0. 0.]\n",
      " [0. 2. 0.]\n",
      " [0. 0. 2.]]\n",
      " G [[1. 1. 1.]\n",
      " [1. 1. 1.]\n",
      " [1. 1. 1.]] \n",
      " H [[2. 0. 0.]\n",
      " [0. 2. 0.]\n",
      " [0. 0. 2.]]\n"
     ]
    }
   ],
   "source": [
    "shape = (3,3)\n",
    "type = np.float32\n",
    "\n",
    "#Naive way\n",
    "G = np.ones((3,3), dtype = dtype)\n",
    "H = np.zeros((3,3), dtype = dtype)\n",
    "\n",
    "for n in range(3) : \n",
    "    H[n,n] = 2 * G[n,n] \n",
    "\n",
    "print(' G', G ,'\\n H',  H)\n",
    "\n",
    "#Efficient way    \n",
    "G = np.ones((3,3), dtype = dtype)\n",
    "H = np.zeros((3,3), dtype = dtype)\n",
    "\n",
    "np.fill_diagonal(H, 2 * np.diag(G))\n",
    "\n",
    "print(' G', G ,'\\n H',  H)\n"
   ]
  },
  {
   "cell_type": "code",
   "execution_count": 32,
   "metadata": {},
   "outputs": [
    {
     "name": "stdout",
     "output_type": "stream",
     "text": [
      "[[3. 1. 1.]\n",
      " [1. 3. 1.]\n",
      " [1. 1. 3.]] [[-1.  1.  1.]\n",
      " [ 1. -1.  1.]\n",
      " [ 1.  1. -1.]] [[2. 0. 0.]\n",
      " [0. 2. 0.]\n",
      " [0. 0. 2.]] [[0.5 inf inf]\n",
      " [inf 0.5 inf]\n",
      " [inf inf 0.5]]\n"
     ]
    },
    {
     "name": "stderr",
     "output_type": "stream",
     "text": [
      "<ipython-input-32-75047313140d>:1: RuntimeWarning: divide by zero encountered in true_divide\n",
      "  print(G + H, G - H, G * H, G / H)\n"
     ]
    }
   ],
   "source": [
    "print(G + H, G - H, G * H, G / H) "
   ]
  },
  {
   "cell_type": "markdown",
   "metadata": {},
   "source": [
    "### Opérations relationnels élément par élément : >, <, ==\n",
    "\n",
    "Les opérateurs relationnels permet de comparer élément par élément les termes entre deux tableaux. Ces opérateurs sont utiles pour construire des masques (matrices booléennes permettant de selectionner uniquement certains élèments). L'opération $A \\star B$ se traduit par : \n",
    "\n",
    "<div align=\"center\"> Entre deux éléments de A et B d'indice, si A  est plus $\\star$ que B, alors l'opération résulte en un booleen True au même indice. Sinon, le booleen est False. </div>\n",
    "\n",
    "La matrice booleenne résultante est sauvée dans un nouvel emplacement mémoire.\n",
    "\n",
    "| Symbole | Expression | Interprétation |\n",
    "| ------- | ---------- | -------------- |\n",
    "| >= | A >= B | A est strictement plus grand que B |\n",
    "| > | A > B | A est plus grand ou égal que B |\n",
    "| <= | A <= B | A est strictement plus petit que B |\n",
    "| < | A < B | A est plus petit ou égal que B |\n",
    "| == | A == B | A est égal à B |\n",
    "| != | A != B | A n'est pas égal à B |\n",
    "\n",
    "**Q.** Après avoir construit les matrices suivantes au format flottant 16 : \n",
    "\n",
    "$$Y = \\begin{pmatrix} 1.0 & 1.1 \\\\ 2.0 & 3.0 \\end{pmatrix} ; Z = \\begin{pmatrix} 1.0 & 1.2 \\\\ 2.0 & 3.0 \\end{pmatrix} $$ \n",
    "\n",
    "Testez les différentes opérations relationnelles."
   ]
  },
  {
   "cell_type": "code",
   "execution_count": 44,
   "metadata": {},
   "outputs": [
    {
     "name": "stdout",
     "output_type": "stream",
     "text": [
      "Y > Z : \n",
      " [[False False]\n",
      " [False False]]\n",
      "Y >= Z : \n",
      " [[ True False]\n",
      " [ True  True]]\n",
      "Y < Z : \n",
      " [[False  True]\n",
      " [False False]]\n",
      "Y <= Z : \n",
      " [[ True  True]\n",
      " [ True  True]]\n",
      "Y = Z : \n",
      " [[ True False]\n",
      " [ True  True]]\n",
      "Y != Z : \n",
      " [[False  True]\n",
      " [False False]]\n"
     ]
    }
   ],
   "source": [
    "dtype = np.float16\n",
    "\n",
    "Y = np.array([[1.0, 1.1], [2.0, 3.0]], dtype = dtype)\n",
    "Z = np.array([[1.0, 1.2], [2.0, 3.0]], dtype = dtype)\n",
    "\n",
    "print(\"Y > Z : \\n\", Y > Z)\n",
    "print(\"Y >= Z : \\n\", Y >= Z)\n",
    "print(\"Y < Z : \\n\", Y < Z)\n",
    "print(\"Y <= Z : \\n\", Y <= Z)\n",
    "print(\"Y = Z : \\n\", Y == Z)\n",
    "print(\"Y != Z : \\n\", Y != Z)"
   ]
  },
  {
   "cell_type": "markdown",
   "metadata": {},
   "source": [
    "### Opérations logiques élément par élément : and, or et not\n",
    "\n",
    "Les opérateurs logiques permettent de comparer deux tableaux bouleens (c-à-d composé de np.True_/np.False_) **conformants** élément par élément.\n",
    "\n",
    "| Fonction | Symbole | Expression | Interprétation |\n",
    "| -------- | ------- | ---------- | -------------- |\n",
    "| np.logical_and | & |expr1 & expr2 | expr1 et expr2 |\n",
    "| np.logical_or | \\| |expr1 \\| expr2 | expr1 ou expr2 |\n",
    "| np.logical_not | ~ |expr1 ~ expr2 | expr1 n'est pas expr2 |\n",
    "\n",
    "En application numérique, on est souvent amené à créer des booleens en combinant opérateurs relationnels et logiques :\n",
    "\n",
    "$$bA = (A > 1) ~ \\& ~ (A < 2)$$\n",
    "\n",
    "signifiant que l'on cherche tous les élément de A qui sont à la fois plus strictement supérieur à 1 et strictement inférieur à 2.\n",
    "\n",
    "Les règles logiques sont données ci-dessous : \n",
    "\n",
    "| A | B | A & B | A \\| B | A ~ B |\n",
    "| - | - | ----- | ------ | ----- |\n",
    "| True | True | True | True | False |\n",
    "| False | True | False | True | False |\n",
    "| True | False | False | True | True | \n",
    "| False | False | False | False | False |\n",
    "\n",
    "Remarque : \n",
    "1. la fonction np.invert est particulièrement utile puisqu'elle permet d'obtenir la négation de A et de B ;\n",
    "2. les emplacements mémoires de sauvegarde des fonctions np.logical sont définies par les keys arguments \"where\" et \"out\". Par défaut, (out = None, where = True) font que les valeurs du booleen A sont réevaluées avec les valeurs de sortie des fonctions logical. \n",
    "\n",
    "**Q.** Vous testerez ces différentes possibilités sur deux tableaux A et B de valeurs : \n",
    "\n",
    "\\begin{align*}\n",
    "A & = ( True, False, True, False ) \\\\\n",
    "B & = ( True, True, False, False )\n",
    "\\end{align*}"
   ]
  },
  {
   "cell_type": "code",
   "execution_count": null,
   "metadata": {},
   "outputs": [],
   "source": [
    "# A terminer"
   ]
  },
  {
   "cell_type": "markdown",
   "metadata": {},
   "source": [
    "## Opérations matricielles\n",
    "\n",
    "### Produit matriciel\n",
    "\n",
    "Le produit matriciel est une opération courante en calcul formel (*p. ex.* dans les systèmes de spin). Si on considère une opération entre A de dimension (N, M) et B de dimension (M, L), on obtient chaque coeffient de la matrice produit C, de format (N, L), par : \n",
    "$$\n",
    "\\begin{align*}\n",
    "c_{n, l} = \\sum_{m=1}^M  a_{n,m} \\cdot b_{m, l}\n",
    "\\end{align*}\n",
    "$$\n",
    "\n",
    "La méthode à utiliser pour réaliser cette opération est np.dot. Vous pouvez tout de fois employé l'opérateur associé : @\n",
    "\n",
    "**Application :**\n",
    "Réaliser l'opération entre A et B : \n",
    "$$\n",
    "A =\\begin{pmatrix} 1 & 0 & 0 \\\\ 1 & 1 & 0 \\\\ 1 & 1 & 1 \\end{pmatrix} ; B =\\begin{pmatrix} 1 & 1 & 1 \\\\ 0 & 1 & 1 \\\\ 0 & 0 & 1 \\end{pmatrix}\n",
    "$$"
   ]
  },
  {
   "cell_type": "code",
   "execution_count": 53,
   "metadata": {},
   "outputs": [
    {
     "name": "stdout",
     "output_type": "stream",
     "text": [
      "[[1. 1. 1.]\n",
      " [1. 2. 2.]\n",
      " [1. 2. 3.]]\n"
     ]
    }
   ],
   "source": [
    "dtype = np.float32\n",
    "\n",
    "A = np.array([[1,0,0], [1,1,0], [1,1,1]], dtype = dtype)\n",
    "B = np.array([[1,1,1], [0,1,1], [0,0,1]], dtype = dtype)\n",
    "\n",
    "C = A @ B\n",
    "\n",
    "print(C)"
   ]
  },
  {
   "cell_type": "markdown",
   "metadata": {},
   "source": [
    "### Opérations \"optimisées\"\n",
    "\n",
    "L'objectif principal du calcul matriciel est de s'affranchir des boucles en python qui sont en général extrêmement longues. Certaines opérations peuvent être réalisées sur une ou plusieurs dimensions d'une matrice. \n",
    "\n",
    "ex : \n",
    "1. Sommation : np.sum\n",
    "2. Moyenne : np.mean\n",
    "3. Ecart-type : np.std\n",
    "\n",
    "**Application**\n",
    "Après avoir construit une matrice N de taille (1000, 1000) composé de 1, vous comparerez à l'aide de la magic command %%timeit le temps de calcul entre une fonction somme que vous aurez construite et la fonction somme de numpy."
   ]
  },
  {
   "cell_type": "code",
   "execution_count": 55,
   "metadata": {},
   "outputs": [
    {
     "name": "stdout",
     "output_type": "stream",
     "text": [
      "445 µs ± 3.44 µs per loop (mean ± std. dev. of 7 runs, 1000 loops each)\n"
     ]
    }
   ],
   "source": [
    "%%timeit\n",
    "N = np.ones((1000,1000), dtype = np.float32)\n",
    "np.sum(N)"
   ]
  },
  {
   "cell_type": "code",
   "execution_count": 57,
   "metadata": {},
   "outputs": [],
   "source": [
    "def sum(N) : \n",
    "    n = 0\n",
    "    for k in range(N.shape[0]) : \n",
    "        for l in range(N.shape[1]) : \n",
    "            n += N[k,l]\n",
    "    return n"
   ]
  },
  {
   "cell_type": "code",
   "execution_count": 70,
   "metadata": {},
   "outputs": [
    {
     "name": "stdout",
     "output_type": "stream",
     "text": [
      "290 ms ± 9.93 ms per loop (mean ± std. dev. of 7 runs, 1 loop each)\n"
     ]
    }
   ],
   "source": [
    "%%timeit\n",
    "N = np.ones((1000, 1000), dtype = np.float32)\n",
    "sum(N)"
   ]
  },
  {
   "cell_type": "markdown",
   "metadata": {},
   "source": [
    "### Inversion d'un système d'équations linéaires\n",
    "\n",
    "On est souvent confrontés à des problèmes linéaires qui peuvent être résolus à l'aide d'outils matriciels : \n",
    "\n",
    "* Détermination des valeurs propres d'une matrice : np.linalg.eigvals (matrice queconque), np.linalg.eigvalsh, np.linalg.eig (matrice carrée quelconque), np.linalg.eigh (matrice hermitienne ou symmétrique réelle carrée)\n",
    "* Inversion d'une matrice : np.linalg.inv\n",
    "* Résolution de systèmes d'équations linéaires de la forme $A \\cdot X = B$ : np.linalg.solve\n",
    "\n",
    "**Application :**\n",
    "\n",
    "Soit les matrices A, B définies comme : \n",
    "$$\n",
    "A = \\begin{pmatrix} 2 & 0 & 0 \\\\ 0 & 2 & 0 \\\\ 0 & 0 & 2 \\end{pmatrix} ; \\quad B = \\begin{pmatrix} 2 & 0 & 0 \\\\ 1 & 2 & 0 \\\\ 1 & 1 & 2 \\end{pmatrix} \n",
    "$$\n",
    "\n",
    "Déterminez-en les valeurs propres et inversez-les."
   ]
  },
  {
   "cell_type": "code",
   "execution_count": 69,
   "metadata": {},
   "outputs": [
    {
     "name": "stdout",
     "output_type": "stream",
     "text": [
      "A [[2 0 0]\n",
      " [0 2 0]\n",
      " [0 0 2]] \n",
      " [[0.5 0.  0. ]\n",
      " [0.  0.5 0. ]\n",
      " [0.  0.  0.5]] \n",
      " [[1. 0. 0.]\n",
      " [0. 1. 0.]\n",
      " [0. 0. 1.]]\n",
      "B [[2 0 0]\n",
      " [1 2 0]\n",
      " [1 1 2]] \n",
      " [[ 0.5    0.     0.   ]\n",
      " [-0.25   0.5    0.   ]\n",
      " [-0.125 -0.25   0.5  ]] \n",
      " [[1. 0. 0.]\n",
      " [0. 1. 0.]\n",
      " [0. 0. 1.]]\n"
     ]
    }
   ],
   "source": [
    "A = np.array([[2, 0, 0], [0, 2, 0], [0, 0, 2]])\n",
    "B = np.array([[2, 0, 0], [1, 2, 0], [1, 1, 2]])\n",
    "iA = np.linalg.inv(A)\n",
    "iB = np.linalg.inv(B)\n",
    "\n",
    "print('A', A, '\\n', iA, '\\n', A @ iA)\n",
    "print('B', B, '\\n', iB, '\\n', B @ iB)"
   ]
  },
  {
   "cell_type": "markdown",
   "metadata": {},
   "source": [
    "**Exercice avancé : Résolution d'un système quantique discret**\n",
    "\n",
    "Une première approche des orbitales moléculaires consiste en la théorie de Hückel, laquelle permet de comprendre qualitativement les systèmes $\\pi$ des orbitales d'un polyène linéaire. Celui-ci pose les hypothèses suivantes  :\n",
    "\n",
    "* Approximation de Born-Oppenheimer\n",
    "* Approximation orbitalaire\n",
    "* Combinaison linéaire d'orbitales atomiques\n",
    "* Il pose un certains nombre d'hypothèses concernant la forme des intégrales pour un polyène linéaire : \n",
    "\n",
    "$$\n",
    "\\begin{align*}\n",
    "\\langle i | \\hat{H} | j \\rangle &= \\begin{cases} \\alpha & \\text{si }i=j \\\\\n",
    "\\beta & \\text{si } |i - j| = 1 \\\\\n",
    "0 & \\text{sinon} \\\\\n",
    "\\end{cases} \\\\\n",
    "\\langle i | j \\rangle &= \\delta_{ij}\n",
    "\\end{align*}\n",
    "$$\n",
    "avec $\\delta$ le symbôle de Kronecker.\n",
    "\n",
    "Pour un polyène, composé de N pair carbones, lesquels sont numérotés de [0, $\\ldots$, N-1], on obtient le système composé des N équations suivantes : \n",
    "$$\n",
    "\\begin{align*}\n",
    "\\alpha c_0 + \\beta c_1 &= E c_0 \\\\\n",
    "\\forall i \\in [1, N-2], \\quad \\beta c_{i-1} + \\alpha c_i + \\beta c_{i+1} &= E c_i \\\\\n",
    "\\alpha c_{N-1} + \\beta c_{N-2} &= E c_{N-1}\n",
    "\\end{align*}\n",
    "$$\n",
    "\n",
    "A partir de ce système, vous construirez un algorithme permettant de déterminer la valeur des coefficients $c_i$ associé aux orbitales $p_i$ en posant $\\alpha = 0$ et $\\beta = 1$."
   ]
  },
  {
   "cell_type": "code",
   "execution_count": 95,
   "metadata": {},
   "outputs": [
    {
     "name": "stdout",
     "output_type": "stream",
     "text": [
      "Hamiltonien de Hückel : \n",
      " [[0. 1.]\n",
      " [1. 0.]]\n",
      "Valeurs propres de Hückel : \n",
      " [ 1. -1.]\n",
      "Vecteurs propres de Hückel : \n",
      " [[ 0.5 -0.5]\n",
      " [ 0.5  0.5]]\n"
     ]
    }
   ],
   "source": [
    "dtype = np.float32\n",
    "N = 2\n",
    "\n",
    "if N % 2 == 0 : \n",
    "    pass\n",
    "else : \n",
    "    raise ValueError(\"Nombre de carbonne doit être pair\")\n",
    "\n",
    "def H(N, dtype) : \n",
    "    h = np.zeros((N,N), dtype = dtype)\n",
    "    \n",
    "    for n in range(N) : \n",
    "        h[n,n] = 0\n",
    "        if n != 0 and n != N-1 : \n",
    "            h[n,n+1] = 1\n",
    "            h[n,n-1] = 1\n",
    "        elif n == 0  :\n",
    "            h[n,n+1] = 1\n",
    "        elif n == N-1 : \n",
    "            h[n,n-1] = 1\n",
    "    return h\n",
    "\n",
    "#Construction de l'hamiltonien\n",
    "out = H(N, dtype)\n",
    "\n",
    "#Recherche des valeurs et vecteurs propres\n",
    "evalues, evector = np.linalg.eig(out)\n",
    "\n",
    "#Normalisation\n",
    "evector /= np.sqrt(np.sum(evector**2))\n",
    "\n",
    "print(\"Hamiltonien de Hückel : \\n\", out)\n",
    "print(\"Valeurs propres de Hückel : \\n\", evalues)\n",
    "print(\"Vecteurs propres de Hückel : \\n\", evector)"
   ]
  },
  {
   "cell_type": "markdown",
   "metadata": {},
   "source": [
    "**Exercice avancé : Résolution d'équations différentielles linéaires**\n",
    "\n",
    "On cherche à résoudre un problème simple d'électrostatique en utilisant une *méthode des différences finies* : le condensateur dans le vide avec une charge pontuelle et sans charge ponctuelle au milieu. Cette méthode consiste à définir une grille discrète, regulière et finie sur laquelle on va chercher à résoudre en chaque point la valeur du potentiel électrique.\n",
    "\n",
    "L'opérateur contrôle la tension U et -U à chacune des bornes du condensateur et la valeur de la chaque q dans une boîte de dimension $[L_x, L_y]$. A partir de l'équation de Poisson, le problème se traduit mathématiquement comme : \n",
    "\n",
    "$$ \\Delta V (x, y) = q \\delta (x- \\frac{L_x}{2}, y - \\frac{L_y}{2}) $$\n",
    "\n",
    "où $(L_x / 2, L_y / 2)$ est l'emplacement de la charge ponctuelle au milieu de la boîte.\n",
    "\n",
    "avec pour conditions aux limites : \n",
    "\n",
    "$$\n",
    "\\begin{align*}\n",
    "\\forall y \\in [0, L_y], V(0, y) &= -U \\\\\n",
    "V(L_x, y) &= U \\\\\n",
    "\\forall x \\in [0; L_x], \\frac{\\partial V}{\\partial y} (x, 0) &= 0 \\\\\n",
    "\\frac{\\partial V}{\\partial y} (x, L_y) &= 0 \\\\\n",
    "\\end{align*}\n",
    "$$\n",
    "\n",
    "On discrétise l'espace tel que pour tout $n \\in [0, N-1], m \\in [0, M-1]$ avec $N$, $M$ deux entiers positifs, on a :\n",
    "\n",
    "$$\n",
    "\\begin{align*}\n",
    "x_n &= h \\cdot n\\\\\n",
    "y_m &= h \\cdot m\n",
    "\\end{align*}\n",
    "$$\n",
    "\n",
    "Il en résulte que le problème physique s'écrit pour $V_{n, m} = V (x_n, y_m)$ :\n",
    "\n",
    "$$\n",
    "\\begin{align*}\n",
    "\\forall (n,m) \\in [1, N-2] x [1, M-2], \\quad \\Delta V_{n, m} &= \\frac{V_{n+1, m} + V_{n , m+1} - 4 V_{n,m} + V_{n-1,m} + V_{n, m-1}}{h^2} = 0 \\\\\n",
    "\\forall m \\in [1, M-1], V_{0, m} &= -U \\\\\n",
    ", V_{N-1, m} &= U \\\\\n",
    "\\forall n \\in [1, N-2], V_{n, 0} - V_{n, 1} &= 0 \\\\\n",
    ", V_{n, M-1} - V_{n, M-2} &= 0 \\\\\n",
    "\\end{align*}\n",
    "$$\n",
    "\n",
    "Dans cette situation, il nous suffit de range ce système d'équation en choissant un axe rapide (x) et un axe lent (y) : \n",
    "\n",
    "\n",
    "$$\n",
    "M \\cdot \\begin{pmatrix} V_{1, 0} \\\\ V_{2, 0} \\\\ ... \\\\ V_{N-1, 0} \\\\ V_{1, 1} \\\\ ... \\\\ V_{1, M-1} \\\\ V_{N-1, M-1} \\end{pmatrix} = \\begin{pmatrix} -1 \\\\ 0 \\\\ ... \\\\ -1 \\\\ 0 \\end{pmatrix}\n",
    "$$"
   ]
  },
  {
   "cell_type": "code",
   "execution_count": 76,
   "metadata": {},
   "outputs": [
    {
     "name": "stdout",
     "output_type": "stream",
     "text": [
      "La boîte fait Nx, Ny = 22 x 22.\n",
      "484 484\n"
     ]
    }
   ],
   "source": [
    "\n",
    "dtype_i = np.int16\n",
    "dtype_f = np.int32\n",
    "\n",
    "#Capacitor parameters\n",
    "h  = 0.1\n",
    "Lx = 2.2\n",
    "Ly = 2.2\n",
    "\n",
    "\n",
    "#########################\n",
    "# Create a grid\n",
    "#########################\n",
    "N = int(Lx // h)\n",
    "M = int(Ly // h)\n",
    "\n",
    "Lx = N * h\n",
    "Ly = M * h\n",
    "\n",
    "print(\"La boîte fait Nx, Ny = {} x {}.\".format(N,M), flush = True)\n",
    "\n",
    "n = np.arange(0, N, 1, dtype = dtype_i)\n",
    "m = np.arange(0, M, 1, dtype = dtype_i)\n",
    "\n",
    "\n",
    "def Coeff(N, M, U, dtype) :\n",
    "    out = np.zeros((N*M, N*M), dtype = dtype)\n",
    "    U = np.zeros((N*M,), dtype = dtype)\n",
    "    \n",
    "    nfill, mfill = tuple(map(lambda x : x.ravel(), np.meshgrid(n, m)))\n",
    "    print(len(nfill), N*M)\n",
    "    for k in range(len(nfill)) : \n",
    "        if 1 < nfill[k] < N-1 and 1 < mfill[k] < M-1 :\n",
    "            out[nfill[k]*mfill[k], nfill[k]*mfill[k]] = -4\n",
    "            \n",
    "            out[(nfill[k]+1)*mfill[k], nfill[k]*mfill[k]] = 1\n",
    "            out[nfill[k]*mfill[k], (nfill[k]+1)*mfill[k]] = 1\n",
    "            out[(nfill[k]-1)*mfill[k], nfill[k]*mfill[k]] = 1\n",
    "            out[nfill[k]*mfill[k], (nfill[k]-1)*mfill[k]] = 1\n",
    "            \n",
    "            out[nfill[k]*(mfill[k]+1), nfill[k]*mfill[k]] = 1\n",
    "            out[nfill[k]*mfill[k], nfill[k]*(mfill[k]+1)] = 1\n",
    "            out[nfill[k]*(mfill[k]-1), nfill[k]*mfill[k]] = 1\n",
    "            out[nfill[k]*mfill[k], nfill[k]*(mfill[k]-1)] = 1\n",
    "            \n",
    "        if nfill[k] == 0 : \n",
    "            out[nfill[k]*mfill[k], nfill[k]*mfill[k]] = 1\n",
    "            U[nfill[k]*mfill[k]] = 1\n",
    "        elif nfill[k] == N-1 :\n",
    "            out[nfill[k]*mfill[k], nfill[k]*mfill[k]] = 1\n",
    "            U[nfill[k]*mfill[k]] = -1\n",
    "        elif mfill[k] == 0 :\n",
    "            out[nfill[k]*mfill[k], nfill[k]*(mfill[k]+1)] = 1\n",
    "            out[nfill[k]*(mfill[k]+1), nfill[k]*mfill[k]] = 1\n",
    "        elif mfill[k] == N-1 : \n",
    "            out[nfill[k]*mfill[k], nfill[k]*(mfill[k]-1)] = 1\n",
    "            out[nfill[k]*(mfill[k]-1), nfill[k]*mfill[k]] = 1\n",
    "    return out, U\n",
    "            \n",
    "a, b = Coeff(N, M, 0, dtype_f)\n",
    "\n",
    "#np.linalg.solve(a, b)"
   ]
  },
  {
   "cell_type": "markdown",
   "metadata": {},
   "source": [
    "## Régressions polynomiales"
   ]
  },
  {
   "cell_type": "markdown",
   "metadata": {},
   "source": [
    "Bien que scipy soit le package présentant la majorité des fonctionnalités pour réaliser des régressions (cf ci-après), numpy permet de réaliser des régressions polynomiales à une dimension : \n",
    "\n",
    "Deux fonctions sont particulières utiles : \n",
    "* np.polyfit : permet la réalisation d'un fit sur un polynôme de votre choix, \n",
    "* np.poly1d : permet de créer une fonction polynomiale à partir d'un fit de votre choix.\n",
    "\n",
    "Par exemple : "
   ]
  },
  {
   "cell_type": "code",
   "execution_count": 124,
   "metadata": {},
   "outputs": [
    {
     "name": "stdout",
     "output_type": "stream",
     "text": [
      "Le polynome est de la forme c0 x^2 + c1 x + c2 \n",
      " c0 = 1.0000000000000009 +/- 5.691909621018664e-17\n",
      " c1 = -2.8294739609347793e-16 +/- 1.484050144839713e-16\n",
      " c2 = -7.070164473148484e-16 +/- 6.490599121775467e-16\n",
      "\n"
     ]
    },
    {
     "data": {
      "text/plain": [
       "<matplotlib.legend.Legend at 0x7ff758b39a60>"
      ]
     },
     "execution_count": 124,
     "metadata": {},
     "output_type": "execute_result"
    },
    {
     "data": {
      "image/png": "[encoded data removed]",
      "text/plain": [
       "<Figure size 864x576 with 1 Axes>"
      ]
     },
     "metadata": {
      "needs_background": "light"
     },
     "output_type": "display_data"
    }
   ],
   "source": [
    "# Paramètres\n",
    "xmin = -5\n",
    "xmax = 5\n",
    "Nx   = 101\n",
    "e    = 0\n",
    "\n",
    "# Création d'une fonction quadratique bruitée\n",
    "x = np.linspace(xmin, xmax, Nx)\n",
    "f = lambda x, e : x**2 + e * (np.random.random(len(x)) - 0.5)\n",
    "\n",
    "raw = f(x, e)\n",
    "\n",
    "#Regression\n",
    "Ci, Cov = np.polyfit(x, raw, deg = 2, cov = 1)\n",
    "dCi = np.sqrt(np.diag(Cov))\n",
    "P = np.poly1d(Ci)\n",
    "\n",
    "\n",
    "print(\"Le polynome est de la forme c0 x^2 + c1 x + c2 \\n\",\n",
    "      \"c0 = {0} +/- {1}\\n\".format(Ci[0], dCi[0]),\n",
    "      \"c1 = {0} +/- {1}\\n\".format(Ci[1], dCi[1]),\n",
    "      \"c2 = {0} +/- {1}\\n\".format(Ci[2], dCi[2]),\n",
    "      flush = True)\n",
    "\n",
    "fig = plt.figure(figsize = (12, 8))\n",
    "ax = fig.subplots()\n",
    "ax.plot(x, raw, color = 'black', marker = 'o', ls = 'none', label = 'raw')\n",
    "ax.plot(x, P(x), color = 'red', label = 'fit')\n",
    "\n",
    "ax.set_xlabel('x')\n",
    "ax.set_ylabel('y')\n",
    "\n",
    "fig.legend()\n"
   ]
  },
  {
   "cell_type": "markdown",
   "metadata": {},
   "source": [
    "**Exercice :**\n",
    "\n",
    "Lors d'un TP, des expérimentateurs cherchent à déterminer la stoechiométrie du complexe $\\left[ Fe(III)SCN_n \\right]^{(3-n) +}$ en réalisant l'équilibre : \n",
    "\n",
    "$$ Fe^{3+} (aq) + n ~ SCN^- (aq) = \\left[ Fe(III)SCN_n \\right]^{(3-n) +} $$\n",
    "\n",
    "Seul complexe formé absorbe dans le visible.\n",
    "\n",
    "Une solution, notée A, de chlorure de fer (III) est préparée à la concentration de 2 mmol/L en milieu acide. Une solution, notée B, de thiocyanate de potassium est préparée à la concentration de 2 mmol/L.\n",
    "\n",
    "![title](img/A_fy.png)\n",
    "\n",
    "Les solutions A et B sont mélangées en différents ratios volumiques comme suit et leurs absorbances mesurées à $\\lambda_{max} = 457 nm$ : \n",
    "\n",
    "| Solution $n^\\circ$ | 1 | 2 | 3 | 4 | 5 | 6 | 7 | 8 | 9 | 10 |\n",
    "| ------------------ | - | - | - | - | - | - | - | - | - | -- |\n",
    "| $V_A$ $[mL]$ | 4.0 | 4.0 | 4.0 | 4.0 | 4.0 | 0.5 | 1.0 | 1.5 | 2.0 | 2.5 |\n",
    "| $V_B$ $[mL]$ | 0.5 | 1.0 | 1.5 | 2.0 | 2.5 | 4.0 | 4.0 | 4.0 | 4.0 | 4.0 |\n",
    "| $A$ $[\\emptyset]$ | 0.277 | 0.453 | 0.553 | 0.624 | 0.673 | 0.281 | 0.460 | 0.568 | 0.627 | 0.672 |\n",
    "\n",
    "Un développement sur lequel nous ne nous attarderons pas a montré que la stoechiométrie $n$ est donnée au maximum d'absorbance de la fonction A = f(y) avec y défini comme : \n",
    "\n",
    "$$ y = \\frac{V_A}{V_{tot}} $$\n",
    "\n",
    "En utilisant un modèle polynomial approprié, déterminer la stoechiométrie du complexe dans ces conditions opératoires."
   ]
  },
  {
   "cell_type": "code",
   "execution_count": 30,
   "metadata": {},
   "outputs": [
    {
     "name": "stdout",
     "output_type": "stream",
     "text": [
      "Le maximum est donné à ymax = 0.5, soit une stoechiométrie de 1.0.\n"
     ]
    },
    {
     "data": {
      "image/png": "[encoded data removed]",
      "text/plain": [
       "<Figure size 864x576 with 1 Axes>"
      ]
     },
     "metadata": {
      "needs_background": "light"
     },
     "output_type": "display_data"
    }
   ],
   "source": [
    "dtype = np.float32\n",
    "\n",
    "A = np.array([0.277, 0.453, 0.553, 0.624, 0.673, 0.281, 0.460, 0.568, 0.627, 0.672], dtype =  dtype)\n",
    "VA = np.array([4.0, 4.0, 4.0, 4.0, 4.0, 0.5, 1.0, 1.5, 2.0, 2.5], dtype = dtype)\n",
    "VB = np.array([0.5, 1.0, 1.5, 2.0, 2.5, 4.0, 4.0, 4.0, 4.0, 4.0], dtype = dtype)\n",
    "\n",
    "\n",
    "yraw = VA / (VA + VB) \n",
    "y = np.linspace(0, 1, num = 100, dtype = dtype)\n",
    "\n",
    "P = np.poly1d(np.polyfit(yraw, A, deg  = 2))\n",
    "\n",
    "fig = plt.figure(figsize = (12, 8))\n",
    "ax = fig.subplots()\n",
    "ax.plot(yraw, A, 'ro', label = 'Valeurs expérimentales')\n",
    "ax.plot(y, P(y), color = 'blue', label = 'Modèle quadratique')\n",
    "ax.set_xlabel(\"$y$\")\n",
    "ax.set_ylabel(\"$A$\")\n",
    "fig.legend()\n",
    "\n",
    "ymax = - P[1] / 2 / P[2]\n",
    "n = (1 - ymax) / ymax\n",
    "print(\"Le maximum est donné à ymax = {:.1f}, soit une stoechiométrie de {:.1f}.\".format(ymax, n))"
   ]
  },
  {
   "cell_type": "markdown",
   "metadata": {},
   "source": [
    "## Traitement du signal : la transformée de Fourier\n",
    "\n"
   ]
  },
  {
   "cell_type": "code",
   "execution_count": null,
   "metadata": {},
   "outputs": [],
   "source": []
  },
  {
   "cell_type": "markdown",
   "metadata": {},
   "source": [
    "**Exercice d'application**\n",
    "\n"
   ]
  },
  {
   "cell_type": "code",
   "execution_count": 89,
   "metadata": {},
   "outputs": [
    {
     "name": "stdout",
     "output_type": "stream",
     "text": [
      "La boîte fait Nx, Ny = 22 x 22.\n",
      "484 484\n"
     ]
    },
    {
     "ename": "LinAlgError",
     "evalue": "Singular matrix",
     "output_type": "error",
     "traceback": [
      "\u001b[0;31m---------------------------------------------------------------------------\u001b[0m",
      "\u001b[0;31mLinAlgError\u001b[0m                               Traceback (most recent call last)",
      "\u001b[0;32m<ipython-input-89-01151f932b80>\u001b[0m in \u001b[0;36m<module>\u001b[0;34m\u001b[0m\n\u001b[1;32m     59\u001b[0m \u001b[0ma\u001b[0m\u001b[0;34m,\u001b[0m \u001b[0mb\u001b[0m \u001b[0;34m=\u001b[0m \u001b[0mCoeff\u001b[0m\u001b[0;34m(\u001b[0m\u001b[0mN\u001b[0m\u001b[0;34m,\u001b[0m \u001b[0mM\u001b[0m\u001b[0;34m,\u001b[0m \u001b[0;36m0\u001b[0m\u001b[0;34m,\u001b[0m \u001b[0mdtype_f\u001b[0m\u001b[0;34m)\u001b[0m\u001b[0;34m\u001b[0m\u001b[0;34m\u001b[0m\u001b[0m\n\u001b[1;32m     60\u001b[0m \u001b[0;34m\u001b[0m\u001b[0m\n\u001b[0;32m---> 61\u001b[0;31m \u001b[0mnp\u001b[0m\u001b[0;34m.\u001b[0m\u001b[0mlinalg\u001b[0m\u001b[0;34m.\u001b[0m\u001b[0mtensorsolve\u001b[0m\u001b[0;34m(\u001b[0m\u001b[0ma\u001b[0m\u001b[0;34m,\u001b[0m \u001b[0mb\u001b[0m\u001b[0;34m)\u001b[0m\u001b[0;34m\u001b[0m\u001b[0;34m\u001b[0m\u001b[0m\n\u001b[0m\u001b[1;32m     62\u001b[0m \u001b[0;34m\u001b[0m\u001b[0m\n\u001b[1;32m     63\u001b[0m \u001b[0;34m\u001b[0m\u001b[0m\n",
      "\u001b[0;32m<__array_function__ internals>\u001b[0m in \u001b[0;36mtensorsolve\u001b[0;34m(*args, **kwargs)\u001b[0m\n",
      "\u001b[0;32m~/anaconda3/envs/teaching/lib/python3.8/site-packages/numpy/linalg/linalg.py\u001b[0m in \u001b[0;36mtensorsolve\u001b[0;34m(a, b, axes)\u001b[0m\n\u001b[1;32m    303\u001b[0m     \u001b[0ma\u001b[0m \u001b[0;34m=\u001b[0m \u001b[0ma\u001b[0m\u001b[0;34m.\u001b[0m\u001b[0mreshape\u001b[0m\u001b[0;34m(\u001b[0m\u001b[0;34m-\u001b[0m\u001b[0;36m1\u001b[0m\u001b[0;34m,\u001b[0m \u001b[0mprod\u001b[0m\u001b[0;34m)\u001b[0m\u001b[0;34m\u001b[0m\u001b[0;34m\u001b[0m\u001b[0m\n\u001b[1;32m    304\u001b[0m     \u001b[0mb\u001b[0m \u001b[0;34m=\u001b[0m \u001b[0mb\u001b[0m\u001b[0;34m.\u001b[0m\u001b[0mravel\u001b[0m\u001b[0;34m(\u001b[0m\u001b[0;34m)\u001b[0m\u001b[0;34m\u001b[0m\u001b[0;34m\u001b[0m\u001b[0m\n\u001b[0;32m--> 305\u001b[0;31m     \u001b[0mres\u001b[0m \u001b[0;34m=\u001b[0m \u001b[0mwrap\u001b[0m\u001b[0;34m(\u001b[0m\u001b[0msolve\u001b[0m\u001b[0;34m(\u001b[0m\u001b[0ma\u001b[0m\u001b[0;34m,\u001b[0m \u001b[0mb\u001b[0m\u001b[0;34m)\u001b[0m\u001b[0;34m)\u001b[0m\u001b[0;34m\u001b[0m\u001b[0;34m\u001b[0m\u001b[0m\n\u001b[0m\u001b[1;32m    306\u001b[0m     \u001b[0mres\u001b[0m\u001b[0;34m.\u001b[0m\u001b[0mshape\u001b[0m \u001b[0;34m=\u001b[0m \u001b[0moldshape\u001b[0m\u001b[0;34m\u001b[0m\u001b[0;34m\u001b[0m\u001b[0m\n\u001b[1;32m    307\u001b[0m     \u001b[0;32mreturn\u001b[0m \u001b[0mres\u001b[0m\u001b[0;34m\u001b[0m\u001b[0;34m\u001b[0m\u001b[0m\n",
      "\u001b[0;32m<__array_function__ internals>\u001b[0m in \u001b[0;36msolve\u001b[0;34m(*args, **kwargs)\u001b[0m\n",
      "\u001b[0;32m~/anaconda3/envs/teaching/lib/python3.8/site-packages/numpy/linalg/linalg.py\u001b[0m in \u001b[0;36msolve\u001b[0;34m(a, b)\u001b[0m\n\u001b[1;32m    392\u001b[0m     \u001b[0msignature\u001b[0m \u001b[0;34m=\u001b[0m \u001b[0;34m'DD->D'\u001b[0m \u001b[0;32mif\u001b[0m \u001b[0misComplexType\u001b[0m\u001b[0;34m(\u001b[0m\u001b[0mt\u001b[0m\u001b[0;34m)\u001b[0m \u001b[0;32melse\u001b[0m \u001b[0;34m'dd->d'\u001b[0m\u001b[0;34m\u001b[0m\u001b[0;34m\u001b[0m\u001b[0m\n\u001b[1;32m    393\u001b[0m     \u001b[0mextobj\u001b[0m \u001b[0;34m=\u001b[0m \u001b[0mget_linalg_error_extobj\u001b[0m\u001b[0;34m(\u001b[0m\u001b[0m_raise_linalgerror_singular\u001b[0m\u001b[0;34m)\u001b[0m\u001b[0;34m\u001b[0m\u001b[0;34m\u001b[0m\u001b[0m\n\u001b[0;32m--> 394\u001b[0;31m     \u001b[0mr\u001b[0m \u001b[0;34m=\u001b[0m \u001b[0mgufunc\u001b[0m\u001b[0;34m(\u001b[0m\u001b[0ma\u001b[0m\u001b[0;34m,\u001b[0m \u001b[0mb\u001b[0m\u001b[0;34m,\u001b[0m \u001b[0msignature\u001b[0m\u001b[0;34m=\u001b[0m\u001b[0msignature\u001b[0m\u001b[0;34m,\u001b[0m \u001b[0mextobj\u001b[0m\u001b[0;34m=\u001b[0m\u001b[0mextobj\u001b[0m\u001b[0;34m)\u001b[0m\u001b[0;34m\u001b[0m\u001b[0;34m\u001b[0m\u001b[0m\n\u001b[0m\u001b[1;32m    395\u001b[0m \u001b[0;34m\u001b[0m\u001b[0m\n\u001b[1;32m    396\u001b[0m     \u001b[0;32mreturn\u001b[0m \u001b[0mwrap\u001b[0m\u001b[0;34m(\u001b[0m\u001b[0mr\u001b[0m\u001b[0;34m.\u001b[0m\u001b[0mastype\u001b[0m\u001b[0;34m(\u001b[0m\u001b[0mresult_t\u001b[0m\u001b[0;34m,\u001b[0m \u001b[0mcopy\u001b[0m\u001b[0;34m=\u001b[0m\u001b[0;32mFalse\u001b[0m\u001b[0;34m)\u001b[0m\u001b[0;34m)\u001b[0m\u001b[0;34m\u001b[0m\u001b[0;34m\u001b[0m\u001b[0m\n",
      "\u001b[0;32m~/anaconda3/envs/teaching/lib/python3.8/site-packages/numpy/linalg/linalg.py\u001b[0m in \u001b[0;36m_raise_linalgerror_singular\u001b[0;34m(err, flag)\u001b[0m\n\u001b[1;32m     86\u001b[0m \u001b[0;34m\u001b[0m\u001b[0m\n\u001b[1;32m     87\u001b[0m \u001b[0;32mdef\u001b[0m \u001b[0m_raise_linalgerror_singular\u001b[0m\u001b[0;34m(\u001b[0m\u001b[0merr\u001b[0m\u001b[0;34m,\u001b[0m \u001b[0mflag\u001b[0m\u001b[0;34m)\u001b[0m\u001b[0;34m:\u001b[0m\u001b[0;34m\u001b[0m\u001b[0;34m\u001b[0m\u001b[0m\n\u001b[0;32m---> 88\u001b[0;31m     \u001b[0;32mraise\u001b[0m \u001b[0mLinAlgError\u001b[0m\u001b[0;34m(\u001b[0m\u001b[0;34m\"Singular matrix\"\u001b[0m\u001b[0;34m)\u001b[0m\u001b[0;34m\u001b[0m\u001b[0;34m\u001b[0m\u001b[0m\n\u001b[0m\u001b[1;32m     89\u001b[0m \u001b[0;34m\u001b[0m\u001b[0m\n\u001b[1;32m     90\u001b[0m \u001b[0;32mdef\u001b[0m \u001b[0m_raise_linalgerror_nonposdef\u001b[0m\u001b[0;34m(\u001b[0m\u001b[0merr\u001b[0m\u001b[0;34m,\u001b[0m \u001b[0mflag\u001b[0m\u001b[0;34m)\u001b[0m\u001b[0;34m:\u001b[0m\u001b[0;34m\u001b[0m\u001b[0;34m\u001b[0m\u001b[0m\n",
      "\u001b[0;31mLinAlgError\u001b[0m: Singular matrix"
     ]
    }
   ],
   "source": []
  },
  {
   "cell_type": "code",
   "execution_count": null,
   "metadata": {},
   "outputs": [],
   "source": []
  }
 ],
 "metadata": {
  "kernelspec": {
   "display_name": "Python 3",
   "language": "python",
   "name": "python3"
  },
  "language_info": {
   "codemirror_mode": {
    "name": "ipython",
    "version": 3
   },
   "file_extension": ".py",
   "mimetype": "text/x-python",
   "name": "python",
   "nbconvert_exporter": "python",
   "pygments_lexer": "ipython3",
   "version": "3.8.5"
  }
 },
 "nbformat": 4,
 "nbformat_minor": 4
}
